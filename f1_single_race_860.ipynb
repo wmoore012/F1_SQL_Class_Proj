{
 "cells": [
  {
   "cell_type": "markdown",
   "id": "ff5483e7",
   "metadata": {},
   "source": [
    "# 🏁 F1 — Single‑Race Analysis (RaceId 860) · SQL Joins + Charts\n",
    "\n",
    "<div style=\"display:block; background:#E6F2FF; border-left:6px solid #3B82F6; padding:12px 14px; border-radius:10px; margin:10px 0; color:#0F172A;\">\n",
    "  <strong style=\"color:#0F172A;\">Scope lock</strong>: One race only — Malaysian GP (<code style=\"color:#0F172A; background:#E5E7EB; padding:2px 6px; border-radius:6px;\">raceId=860</code>)\n",
    "</div>\n",
    "\n",
    "<div style=\"display:block; background:#ECFDF5; border-left:6px solid #10B981; padding:12px 14px; border-radius:10px; margin:10px 0; color:#0F172A;\">\n",
    "  <strong style=\"color:#0F172A;\">Charts</strong>: ① Wins by nationality · ② Avg Lap vs Finish (race‑pace proxy) · ③ Pit‑stop efficiency · ④ Positions gained\n",
    "</div>\n",
    "\n",
    "<div style=\"display:block; background:#FFF7ED; border-left:6px solid #F59E0B; padding:12px 14px; border-radius:10px; margin:10px 0; color:#0F172A;\">\n",
    "  <strong style=\"color:#0F172A;\">Guarantees</strong>: Fail‑fast config · explicit joins · typed helpers\n",
    "</div>\n",
    "\n",
    "<div style=\"display:block; background:#F5F3FF; border-left:6px solid #8B5CF6; padding:12px 14px; border-radius:10px; margin:10px 0; color:#0F172A;\">\n",
    "  <strong style=\"color:#0F172A;\">Data</strong>: Kaggle “Formula 1 World Championship (1950–2024)” — drivers · results · races · driver_standings · lap_times · pit_stops · qualifying\n",
    "</div>\n",
    "\n",
    "---\n",
    "\n",
    "## ⏱️ What to look for (60‑sec brief)\n",
    "\n",
    "- 🔵 <strong>Avg lap time ≠ prediction</strong>: It’s a <em>race‑pace proxy</em>. Strategy, traffic, and weather (rain‑affected 2012 Malaysia) explain outliers. We flip the Y‑axis so better finishes sit higher.\n",
    "- 🟢 <strong>Positions gained</strong>: Who moved forward? We compute <code>grid − finish</code> using numeric <code>positionOrder</code> when available.\n",
    "- 🟣 <strong>Pit‑stop efficiency</strong>: Faster, consistent stops reduce off‑track time; patterns emerge when drivers have many recorded stops.\n",
    "\n",
    "## 📖 3‑minute walkthrough (story + methodology)\n",
    "\n",
    "- <strong>Avg Lap vs Finish</strong>: Mean lap per driver for race 860 → scatter vs. classified finish. Expect a loose negative trend:\n",
    "  - ✅ <em>Fast avg + strong finish</em> → pace + track position + clean strategy.\n",
    "  - ⚠️ <em>Fast avg + poor finish</em> → traffic, extra stops, incidents/penalties.\n",
    "  - 🧩 <em>Slower avg + good finish</em> → strategy/track position wins (SC timing, tyre calls).\n",
    "  - Note: Some DNFs are still classified → visible outliers.\n",
    "- <strong>Positions Gained</strong>: Numeric‑coerced <code>grid</code> and <code>finish</code> (prefer <code>positionOrder</code>). Big positives often = strong starts + smart windows.\n",
    "- <strong>Pit Stops (career view)</strong>: Top‑20 fastest average stops (≥5). Correlates with success, but context rules (e.g., Red Bull crew in Webber era).\n",
    "\n",
    "## ✅ Key takeaways\n",
    "\n",
    "- 👥 F1 is a team sport—crew and ops materially affect finishing positions.\n",
    "- ⏳ Every second counts; top teams have near‑perfect race ops.\n",
    "- 🚗 Faster cars correlate with higher placing, but strategy/weather can reorder results.\n",
    "- ⬇️ Faster lap times tend to align with better finishes overall; outliers prove context.\n",
    "- 🌍 European roots + deep resources shape the competitive landscape."
   ]
  },
  {
   "cell_type": "code",
   "execution_count": 6,
   "id": "c867d831",
   "metadata": {},
   "outputs": [
    {
     "name": "stdout",
     "output_type": "stream",
     "text": [
      "Python: 3.12.2 | packaged by conda-forge | (main, Feb 16 2024, 20:54:21) [Clang 16.0.6 ]\n",
      "Pandas: 2.2.2\n",
      "Plotly: 5.24.1\n"
     ]
    },
    {
     "name": "stderr",
     "output_type": "stream",
     "text": [
      "/var/folders/yf/fdwktyxn3jz7vf2p0pwsdzjc0000gn/T/ipykernel_91046/170156605.py:28: PydanticDeprecatedSince20:\n",
      "\n",
      "Pydantic V1 style `@validator` validators are deprecated. You should migrate to Pydantic V2 style `@field_validator` validators, see the migration guide for more details. Deprecated in Pydantic V2.0 to be removed in V3.0. See Pydantic V2 Migration Guide at https://errors.pydantic.dev/2.11/migration/\n",
      "\n"
     ]
    }
   ],
   "source": [
    "from __future__ import annotations\n",
    "\n",
    "from dataclasses import dataclass\n",
    "from typing import List, Optional, Tuple\n",
    "from pathlib import Path\n",
    "import sys\n",
    "\n",
    "import pandas as pd\n",
    "import plotly.express as px\n",
    "from pydantic import BaseModel, Field, validator\n",
    "\n",
    "pd.set_option(\"display.max_rows\", 20)\n",
    "pd.set_option(\"display.width\", 140)\n",
    "\n",
    "print(\"Python:\", sys.version)\n",
    "print(\"Pandas:\", pd.__version__)\n",
    "try:\n",
    "    import plotly\n",
    "    print(\"Plotly:\", plotly.__version__)\n",
    "except Exception as e:\n",
    "    raise RuntimeError(\"Plotly must be installed for this notebook.\") from e\n",
    "\n",
    "class Config(BaseModel):\n",
    "    \"\"\"Explicit over implicit. No fallbacks.\"\"\"\n",
    "    data_dir: Path = Field(default=Path(\"data/f1\"))\n",
    "    target_race_id: int = Field(default=860)  # Malaysian GP (project scope)\n",
    "\n",
    "    @validator(\"data_dir\")\n",
    "    def _pass_path(cls, v: Path) -> Path:\n",
    "        return v\n",
    "\n",
    "CFG = Config()  # typed, validated"
   ]
  },
  {
   "cell_type": "code",
   "execution_count": 7,
   "id": "b0350c8f",
   "metadata": {},
   "outputs": [
    {
     "data": {
      "text/plain": [
       "{'drivers': (861, 9),\n",
       " 'results': (26759, 18),\n",
       " 'races': (1125, 18),\n",
       " 'driver_standings': (34863, 7),\n",
       " 'lap_times': (589081, 6),\n",
       " 'pit_stops': (11371, 7),\n",
       " 'qualifying': (10494, 9)}"
      ]
     },
     "execution_count": 7,
     "metadata": {},
     "output_type": "execute_result"
    }
   ],
   "source": [
    "REQUIRED_FILES = [\n",
    "    \"drivers.csv\",\n",
    "    \"results.csv\",\n",
    "    \"races.csv\",\n",
    "    \"driver_standings.csv\",\n",
    "    \"lap_times.csv\",\n",
    "    \"pit_stops.csv\",\n",
    "    \"qualifying.csv\",\n",
    "]\n",
    "\n",
    "def require_files_or_fail(data_dir: Path, files: List[str]) -> None:\n",
    "    missing = [f for f in files if not (data_dir / f).exists()]\n",
    "    if missing:\n",
    "        raise FileNotFoundError(\n",
    "            f\"Missing required files in {data_dir.resolve()} -> {missing}. \"\n",
    "            \"Download Kaggle 'Formula 1 World Championship (1950–2024)' CSVs and place them there.\"\n",
    "        )\n",
    "\n",
    "def read_csv_df(data_dir: Path, name: str) -> pd.DataFrame:\n",
    "    path = data_dir / name\n",
    "    if not path.exists():\n",
    "        raise FileNotFoundError(f\"Expected {name} at {path.resolve()}\")\n",
    "    df = pd.read_csv(path)\n",
    "    df.columns = [c.strip() for c in df.columns]\n",
    "    return df\n",
    "\n",
    "def ensure_race_id(df: pd.DataFrame) -> pd.DataFrame:\n",
    "    if \"raceId\" in df.columns:\n",
    "        return df\n",
    "    if \"raceID\" in df.columns:\n",
    "        return df.rename(columns={\"raceID\": \"raceId\"})\n",
    "    return df\n",
    "\n",
    "def parse_ms_from_str_time(s: pd.Series) -> pd.Series:\n",
    "    \"\"\"mm:ss.xxx or ss.xxx -> milliseconds. No fallback paths.\"\"\"\n",
    "    import numpy as np\n",
    "    def _to_ms(x):\n",
    "        if pd.isna(x): return np.nan\n",
    "        xs = str(x).strip()\n",
    "        if \":\" in xs:\n",
    "            m, rest = xs.split(\":\", 1)\n",
    "            ss = float(rest)\n",
    "            return (int(m) * 60 + ss) * 1000.0\n",
    "        return float(xs) * 1000.0\n",
    "    return s.apply(_to_ms)\n",
    "\n",
    "require_files_or_fail(CFG.data_dir, REQUIRED_FILES)\n",
    "\n",
    "drivers = read_csv_df(CFG.data_dir, \"drivers.csv\")\n",
    "results = ensure_race_id(read_csv_df(CFG.data_dir, \"results.csv\"))\n",
    "races = ensure_race_id(read_csv_df(CFG.data_dir, \"races.csv\"))\n",
    "driver_standings = read_csv_df(CFG.data_dir, \"driver_standings.csv\")\n",
    "lap_times = ensure_race_id(read_csv_df(CFG.data_dir, \"lap_times.csv\"))\n",
    "pit_stops = ensure_race_id(read_csv_df(CFG.data_dir, \"pit_stops.csv\"))\n",
    "qualifying = ensure_race_id(read_csv_df(CFG.data_dir, \"qualifying.csv\"))\n",
    "\n",
    "{\n",
    "    \"drivers\": drivers.shape,\n",
    "    \"results\": results.shape,\n",
    "    \"races\": races.shape,\n",
    "    \"driver_standings\": driver_standings.shape,\n",
    "    \"lap_times\": lap_times.shape,\n",
    "    \"pit_stops\": pit_stops.shape,\n",
    "    \"qualifying\": qualifying.shape,\n",
    "}"
   ]
  },
  {
   "cell_type": "code",
   "execution_count": 8,
   "id": "4b5fdeaf",
   "metadata": {},
   "outputs": [],
   "source": [
    "from functools import lru_cache\n",
    "\n",
    "class F1Analysis:\n",
    "    \"\"\"Single-race analysis with explicit joins; no hidden defaults.\"\"\"\n",
    "\n",
    "    def __init__(self, drivers: pd.DataFrame, results: pd.DataFrame,\n",
    "                 races: pd.DataFrame, lap_times: pd.DataFrame,\n",
    "                 pit_stops: pd.DataFrame):\n",
    "        self.drivers = drivers\n",
    "        self.results = results\n",
    "        self.races = races\n",
    "        self.lap_times = lap_times\n",
    "        self.pit_stops = pit_stops\n",
    "\n",
    "    @staticmethod\n",
    "    def _finish_col(results_df: pd.DataFrame) -> str:\n",
    "        # Prefer official finish, else pre-points ordering.\n",
    "        return \"position\" if \"position\" in results_df.columns else \"positionOrder\"\n",
    "\n",
    "    @lru_cache(maxsize=8)\n",
    "    def nationality_wins_df(self) -> pd.DataFrame:\n",
    "        r = self.results.copy()\n",
    "        # Use positionOrder when available (robust against string/non-numeric 'position').\n",
    "        if \"positionOrder\" in r.columns:\n",
    "            winners = r[r[\"positionOrder\"].eq(1)][[\"driverId\"]]\n",
    "        else:\n",
    "            pos_num = pd.to_numeric(r.get(\"position\"), errors=\"coerce\")\n",
    "            winners = r[pos_num.eq(1)][[\"driverId\"]]\n",
    "        wins = winners.groupby(\"driverId\", as_index=False).size().rename(columns={\"size\": \"wins_per_driver\"})\n",
    "        out = (wins\n",
    "               .merge(self.drivers[[\"driverId\", \"nationality\"]], on=\"driverId\", how=\"left\")\n",
    "               .groupby(\"nationality\", as_index=False)[\"wins_per_driver\"].sum()\n",
    "               .rename(columns={\"wins_per_driver\": \"total_wins\"})\n",
    "               .sort_values(\"total_wins\", ascending=False))\n",
    "        return out\n",
    "\n",
    "    def avg_lap_vs_finish_df(self, race_id: int) -> pd.DataFrame:\n",
    "        lt = self.lap_times[self.lap_times[\"raceId\"] == race_id].copy()\n",
    "        if \"milliseconds\" in lt.columns:\n",
    "            lt[\"lap_ms\"] = lt[\"milliseconds\"]\n",
    "        else:\n",
    "            if \"time\" not in lt.columns:\n",
    "                raise KeyError(\"lap_times must have 'milliseconds' or 'time'\")\n",
    "            lt[\"lap_ms\"] = parse_ms_from_str_time(lt[\"time\"])\n",
    "\n",
    "        avg_lt = (lt.groupby(\"driverId\", as_index=False)[\"lap_ms\"]\n",
    "                    .mean().rename(columns={\"lap_ms\": \"avg_lap_ms\"}))\n",
    "        avg_lt[\"avg_lap_sec\"] = avg_lt[\"avg_lap_ms\"] / 1000.0\n",
    "\n",
    "        res = self.results[self.results[\"raceId\"] == race_id].copy()\n",
    "        finish_col = self._finish_col(res)\n",
    "\n",
    "        cols = [\"driverId\", finish_col]\n",
    "        if \"points\" in res.columns: cols.append(\"points\")\n",
    "        if \"positionText\" in res.columns: cols.append(\"positionText\")\n",
    "\n",
    "        out = (avg_lt\n",
    "               .merge(self.drivers[[\"driverId\", \"forename\", \"surname\", \"nationality\"]], on=\"driverId\", how=\"left\")\n",
    "               .merge(res[cols], on=\"driverId\", how=\"left\"))\n",
    "        out = out.rename(columns={finish_col: \"finish_position\"})\n",
    "        return out\n",
    "\n",
    "    def pit_efficiency_df(self, min_stops: int = 5) -> pd.DataFrame:\n",
    "        p = self.pit_stops.copy()\n",
    "        if \"milliseconds\" in p.columns:\n",
    "            p[\"stop_ms\"] = p[\"milliseconds\"]\n",
    "        elif \"duration\" in p.columns:\n",
    "            p[\"stop_ms\"] = parse_ms_from_str_time(p[\"duration\"])\n",
    "        else:\n",
    "            raise KeyError(\"pit_stops must have 'milliseconds' or 'duration'\")\n",
    "\n",
    "        agg = (p.groupby(\"driverId\", as_index=False)[\"stop_ms\"]\n",
    "                 .agg(avg_stop_ms=\"mean\", total_stops=\"size\"))\n",
    "        agg = agg[agg[\"total_stops\"] >= min_stops]\n",
    "        agg = agg.merge(self.drivers[[\"driverId\", \"forename\", \"surname\"]], on=\"driverId\", how=\"left\")\n",
    "        agg[\"avg_stop_sec\"] = agg[\"avg_stop_ms\"] / 1000.0\n",
    "        return agg.sort_values(\"avg_stop_ms\", ascending=True).reset_index(drop=True)\n",
    "\n",
    "AN = F1Analysis(drivers, results, races, lap_times, pit_stops)"
   ]
  },
  {
   "cell_type": "code",
   "execution_count": 9,
   "id": "88842e6c",
   "metadata": {},
   "outputs": [
    {
     "data": {
      "application/vnd.plotly.v1+json": {
       "config": {
        "plotlyServerURL": "https://plot.ly"
       },
       "data": [
        {
         "customdata": [
          [
           "Lewis",
           "Hamilton",
           15
          ],
          [
           "Jenson",
           "Button",
           25
          ],
          [
           "Paul",
           "di Resta",
           1
          ]
         ],
         "hovertemplate": "nationality=British<br>avg_lap_sec=%{x}<br>finish_position=%{y}<br>forename=%{customdata[0]}<br>surname=%{customdata[1]}<br>points=%{customdata[2]}<extra></extra>",
         "legendgroup": "British",
         "marker": {
          "color": "#636efa",
          "symbol": "circle"
         },
         "mode": "markers",
         "name": "British",
         "orientation": "h",
         "showlegend": true,
         "type": "scatter",
         "x": [
          97.47655172413793,
          97.40629310344828,
          98.09141379310346
         ],
         "xaxis": "x",
         "y": [
          "3",
          "1",
          "10"
         ],
         "yaxis": "y"
        },
        {
         "customdata": [
          [
           "Nico",
           "Rosberg",
           0
          ],
          [
           "Timo",
           "Glock",
           0
          ],
          [
           "Sebastian",
           "Vettel",
           18
          ],
          [
           "Michael",
           "Schumacher",
           0
          ]
         ],
         "hovertemplate": "nationality=German<br>avg_lap_sec=%{x}<br>finish_position=%{y}<br>forename=%{customdata[0]}<br>surname=%{customdata[1]}<br>points=%{customdata[2]}<extra></extra>",
         "legendgroup": "German",
         "marker": {
          "color": "#EF553B",
          "symbol": "circle"
         },
         "mode": "markers",
         "name": "German",
         "orientation": "h",
         "showlegend": true,
         "type": "scatter",
         "x": [
          98.40012068965517,
          99.90919298245613,
          97.4431724137931,
          95.217
         ],
         "xaxis": "x",
         "y": [
          "12",
          "14",
          "2",
          "\\N"
         ],
         "yaxis": "y"
        },
        {
         "customdata": [
          [
           "Fernando",
           "Alonso",
           10
          ]
         ],
         "hovertemplate": "nationality=Spanish<br>avg_lap_sec=%{x}<br>finish_position=%{y}<br>forename=%{customdata[0]}<br>surname=%{customdata[1]}<br>points=%{customdata[2]}<extra></extra>",
         "legendgroup": "Spanish",
         "marker": {
          "color": "#00cc96",
          "symbol": "circle"
         },
         "mode": "markers",
         "name": "Spanish",
         "orientation": "h",
         "showlegend": true,
         "type": "scatter",
         "x": [
          97.77810344827586
         ],
         "xaxis": "x",
         "y": [
          "5"
         ],
         "yaxis": "y"
        },
        {
         "customdata": [
          [
           "Heikki",
           "Kovalainen",
           0
          ],
          [
           "Kimi",
           "Räikkönen",
           6
          ]
         ],
         "hovertemplate": "nationality=Finnish<br>avg_lap_sec=%{x}<br>finish_position=%{y}<br>forename=%{customdata[0]}<br>surname=%{customdata[1]}<br>points=%{customdata[2]}<extra></extra>",
         "legendgroup": "Finnish",
         "marker": {
          "color": "#ab63fa",
          "symbol": "circle"
         },
         "mode": "markers",
         "name": "Finnish",
         "orientation": "h",
         "showlegend": true,
         "type": "scatter",
         "x": [
          100.75465789473684,
          98.06170689655173
         ],
         "xaxis": "x",
         "y": [
          "\\N",
          "7"
         ],
         "yaxis": "y"
        },
        {
         "customdata": [
          [
           "Felipe",
           "Massa",
           0
          ],
          [
           "Bruno",
           "Senna",
           0
          ]
         ],
         "hovertemplate": "nationality=Brazilian<br>avg_lap_sec=%{x}<br>finish_position=%{y}<br>forename=%{customdata[0]}<br>surname=%{customdata[1]}<br>points=%{customdata[2]}<extra></extra>",
         "legendgroup": "Brazilian",
         "marker": {
          "color": "#FFA15A",
          "symbol": "circle"
         },
         "mode": "markers",
         "name": "Brazilian",
         "orientation": "h",
         "showlegend": true,
         "type": "scatter",
         "x": [
          99.75632608695653,
          100.55630769230768
         ],
         "xaxis": "x",
         "y": [
          "\\N",
          "16"
         ],
         "yaxis": "y"
        },
        {
         "customdata": [
          [
           "Mark",
           "Webber",
           12
          ],
          [
           "Daniel",
           "Ricciardo",
           2
          ]
         ],
         "hovertemplate": "nationality=Australian<br>avg_lap_sec=%{x}<br>finish_position=%{y}<br>forename=%{customdata[0]}<br>surname=%{customdata[1]}<br>points=%{customdata[2]}<extra></extra>",
         "legendgroup": "Australian",
         "marker": {
          "color": "#19d3f3",
          "symbol": "circle"
         },
         "mode": "markers",
         "name": "Australian",
         "orientation": "h",
         "showlegend": true,
         "type": "scatter",
         "x": [
          97.48468965517242,
          98.08829310344828
         ],
         "xaxis": "x",
         "y": [
          "4",
          "9"
         ],
         "yaxis": "y"
        },
        {
         "customdata": [
          [
           "Romain",
           "Grosjean",
           0
          ],
          [
           "Jean-Éric",
           "Vergne",
           0
          ],
          [
           "Charles",
           "Pic",
           0
          ]
         ],
         "hovertemplate": "nationality=French<br>avg_lap_sec=%{x}<br>finish_position=%{y}<br>forename=%{customdata[0]}<br>surname=%{customdata[1]}<br>points=%{customdata[2]}<extra></extra>",
         "legendgroup": "French",
         "marker": {
          "color": "#FF6692",
          "symbol": "circle"
         },
         "mode": "markers",
         "name": "French",
         "orientation": "h",
         "showlegend": true,
         "type": "scatter",
         "x": [
          103.73,
          98.0933275862069,
          102.46390566037736
         ],
         "xaxis": "x",
         "y": [
          "\\N",
          "11",
          "15"
         ],
         "yaxis": "y"
        },
        {
         "customdata": [
          [
           "Kamui",
           "Kobayashi",
           8
          ]
         ],
         "hovertemplate": "nationality=Japanese<br>avg_lap_sec=%{x}<br>finish_position=%{y}<br>forename=%{customdata[0]}<br>surname=%{customdata[1]}<br>points=%{customdata[2]}<extra></extra>",
         "legendgroup": "Japanese",
         "marker": {
          "color": "#B6E880",
          "symbol": "circle"
         },
         "mode": "markers",
         "name": "Japanese",
         "orientation": "h",
         "showlegend": true,
         "type": "scatter",
         "x": [
          98.04018965517243
         ],
         "xaxis": "x",
         "y": [
          "6"
         ],
         "yaxis": "y"
        },
        {
         "customdata": [
          [
           "Vitaly",
           "Petrov",
           0
          ]
         ],
         "hovertemplate": "nationality=Russian<br>avg_lap_sec=%{x}<br>finish_position=%{y}<br>forename=%{customdata[0]}<br>surname=%{customdata[1]}<br>points=%{customdata[2]}<extra></extra>",
         "legendgroup": "Russian",
         "marker": {
          "color": "#FF97FF",
          "symbol": "circle"
         },
         "mode": "markers",
         "name": "Russian",
         "orientation": "h",
         "showlegend": true,
         "type": "scatter",
         "x": [
          96.43861764705882
         ],
         "xaxis": "x",
         "y": [
          "\\N"
         ],
         "yaxis": "y"
        },
        {
         "customdata": [
          [
           "Pastor",
           "Maldonado",
           0
          ]
         ],
         "hovertemplate": "nationality=Venezuelan<br>avg_lap_sec=%{x}<br>finish_position=%{y}<br>forename=%{customdata[0]}<br>surname=%{customdata[1]}<br>points=%{customdata[2]}<extra></extra>",
         "legendgroup": "Venezuelan",
         "marker": {
          "color": "#FECB52",
          "symbol": "circle"
         },
         "mode": "markers",
         "name": "Venezuelan",
         "orientation": "h",
         "showlegend": true,
         "type": "scatter",
         "x": [
          97.85717543859649
         ],
         "xaxis": "x",
         "y": [
          "13"
         ],
         "yaxis": "y"
        },
        {
         "customdata": [
          [
           "Sergio",
           "Pérez",
           4
          ]
         ],
         "hovertemplate": "nationality=Mexican<br>avg_lap_sec=%{x}<br>finish_position=%{y}<br>forename=%{customdata[0]}<br>surname=%{customdata[1]}<br>points=%{customdata[2]}<extra></extra>",
         "legendgroup": "Mexican",
         "marker": {
          "color": "#636efa",
          "symbol": "circle"
         },
         "mode": "markers",
         "name": "Mexican",
         "orientation": "h",
         "showlegend": true,
         "type": "scatter",
         "x": [
          98.08660344827585
         ],
         "xaxis": "x",
         "y": [
          "8"
         ],
         "yaxis": "y"
        }
       ],
       "layout": {
        "legend": {
         "title": {
          "text": "nationality"
         },
         "tracegroupgap": 0
        },
        "template": {
         "data": {
          "bar": [
           {
            "error_x": {
             "color": "#2a3f5f"
            },
            "error_y": {
             "color": "#2a3f5f"
            },
            "marker": {
             "line": {
              "color": "#E5ECF6",
              "width": 0.5
             },
             "pattern": {
              "fillmode": "overlay",
              "size": 10,
              "solidity": 0.2
             }
            },
            "type": "bar"
           }
          ],
          "barpolar": [
           {
            "marker": {
             "line": {
              "color": "#E5ECF6",
              "width": 0.5
             },
             "pattern": {
              "fillmode": "overlay",
              "size": 10,
              "solidity": 0.2
             }
            },
            "type": "barpolar"
           }
          ],
          "carpet": [
           {
            "aaxis": {
             "endlinecolor": "#2a3f5f",
             "gridcolor": "white",
             "linecolor": "white",
             "minorgridcolor": "white",
             "startlinecolor": "#2a3f5f"
            },
            "baxis": {
             "endlinecolor": "#2a3f5f",
             "gridcolor": "white",
             "linecolor": "white",
             "minorgridcolor": "white",
             "startlinecolor": "#2a3f5f"
            },
            "type": "carpet"
           }
          ],
          "choropleth": [
           {
            "colorbar": {
             "outlinewidth": 0,
             "ticks": ""
            },
            "type": "choropleth"
           }
          ],
          "contour": [
           {
            "colorbar": {
             "outlinewidth": 0,
             "ticks": ""
            },
            "colorscale": [
             [
              0,
              "#0d0887"
             ],
             [
              0.1111111111111111,
              "#46039f"
             ],
             [
              0.2222222222222222,
              "#7201a8"
             ],
             [
              0.3333333333333333,
              "#9c179e"
             ],
             [
              0.4444444444444444,
              "#bd3786"
             ],
             [
              0.5555555555555556,
              "#d8576b"
             ],
             [
              0.6666666666666666,
              "#ed7953"
             ],
             [
              0.7777777777777778,
              "#fb9f3a"
             ],
             [
              0.8888888888888888,
              "#fdca26"
             ],
             [
              1,
              "#f0f921"
             ]
            ],
            "type": "contour"
           }
          ],
          "contourcarpet": [
           {
            "colorbar": {
             "outlinewidth": 0,
             "ticks": ""
            },
            "type": "contourcarpet"
           }
          ],
          "heatmap": [
           {
            "colorbar": {
             "outlinewidth": 0,
             "ticks": ""
            },
            "colorscale": [
             [
              0,
              "#0d0887"
             ],
             [
              0.1111111111111111,
              "#46039f"
             ],
             [
              0.2222222222222222,
              "#7201a8"
             ],
             [
              0.3333333333333333,
              "#9c179e"
             ],
             [
              0.4444444444444444,
              "#bd3786"
             ],
             [
              0.5555555555555556,
              "#d8576b"
             ],
             [
              0.6666666666666666,
              "#ed7953"
             ],
             [
              0.7777777777777778,
              "#fb9f3a"
             ],
             [
              0.8888888888888888,
              "#fdca26"
             ],
             [
              1,
              "#f0f921"
             ]
            ],
            "type": "heatmap"
           }
          ],
          "heatmapgl": [
           {
            "colorbar": {
             "outlinewidth": 0,
             "ticks": ""
            },
            "colorscale": [
             [
              0,
              "#0d0887"
             ],
             [
              0.1111111111111111,
              "#46039f"
             ],
             [
              0.2222222222222222,
              "#7201a8"
             ],
             [
              0.3333333333333333,
              "#9c179e"
             ],
             [
              0.4444444444444444,
              "#bd3786"
             ],
             [
              0.5555555555555556,
              "#d8576b"
             ],
             [
              0.6666666666666666,
              "#ed7953"
             ],
             [
              0.7777777777777778,
              "#fb9f3a"
             ],
             [
              0.8888888888888888,
              "#fdca26"
             ],
             [
              1,
              "#f0f921"
             ]
            ],
            "type": "heatmapgl"
           }
          ],
          "histogram": [
           {
            "marker": {
             "pattern": {
              "fillmode": "overlay",
              "size": 10,
              "solidity": 0.2
             }
            },
            "type": "histogram"
           }
          ],
          "histogram2d": [
           {
            "colorbar": {
             "outlinewidth": 0,
             "ticks": ""
            },
            "colorscale": [
             [
              0,
              "#0d0887"
             ],
             [
              0.1111111111111111,
              "#46039f"
             ],
             [
              0.2222222222222222,
              "#7201a8"
             ],
             [
              0.3333333333333333,
              "#9c179e"
             ],
             [
              0.4444444444444444,
              "#bd3786"
             ],
             [
              0.5555555555555556,
              "#d8576b"
             ],
             [
              0.6666666666666666,
              "#ed7953"
             ],
             [
              0.7777777777777778,
              "#fb9f3a"
             ],
             [
              0.8888888888888888,
              "#fdca26"
             ],
             [
              1,
              "#f0f921"
             ]
            ],
            "type": "histogram2d"
           }
          ],
          "histogram2dcontour": [
           {
            "colorbar": {
             "outlinewidth": 0,
             "ticks": ""
            },
            "colorscale": [
             [
              0,
              "#0d0887"
             ],
             [
              0.1111111111111111,
              "#46039f"
             ],
             [
              0.2222222222222222,
              "#7201a8"
             ],
             [
              0.3333333333333333,
              "#9c179e"
             ],
             [
              0.4444444444444444,
              "#bd3786"
             ],
             [
              0.5555555555555556,
              "#d8576b"
             ],
             [
              0.6666666666666666,
              "#ed7953"
             ],
             [
              0.7777777777777778,
              "#fb9f3a"
             ],
             [
              0.8888888888888888,
              "#fdca26"
             ],
             [
              1,
              "#f0f921"
             ]
            ],
            "type": "histogram2dcontour"
           }
          ],
          "mesh3d": [
           {
            "colorbar": {
             "outlinewidth": 0,
             "ticks": ""
            },
            "type": "mesh3d"
           }
          ],
          "parcoords": [
           {
            "line": {
             "colorbar": {
              "outlinewidth": 0,
              "ticks": ""
             }
            },
            "type": "parcoords"
           }
          ],
          "pie": [
           {
            "automargin": true,
            "type": "pie"
           }
          ],
          "scatter": [
           {
            "fillpattern": {
             "fillmode": "overlay",
             "size": 10,
             "solidity": 0.2
            },
            "type": "scatter"
           }
          ],
          "scatter3d": [
           {
            "line": {
             "colorbar": {
              "outlinewidth": 0,
              "ticks": ""
             }
            },
            "marker": {
             "colorbar": {
              "outlinewidth": 0,
              "ticks": ""
             }
            },
            "type": "scatter3d"
           }
          ],
          "scattercarpet": [
           {
            "marker": {
             "colorbar": {
              "outlinewidth": 0,
              "ticks": ""
             }
            },
            "type": "scattercarpet"
           }
          ],
          "scattergeo": [
           {
            "marker": {
             "colorbar": {
              "outlinewidth": 0,
              "ticks": ""
             }
            },
            "type": "scattergeo"
           }
          ],
          "scattergl": [
           {
            "marker": {
             "colorbar": {
              "outlinewidth": 0,
              "ticks": ""
             }
            },
            "type": "scattergl"
           }
          ],
          "scattermapbox": [
           {
            "marker": {
             "colorbar": {
              "outlinewidth": 0,
              "ticks": ""
             }
            },
            "type": "scattermapbox"
           }
          ],
          "scatterpolar": [
           {
            "marker": {
             "colorbar": {
              "outlinewidth": 0,
              "ticks": ""
             }
            },
            "type": "scatterpolar"
           }
          ],
          "scatterpolargl": [
           {
            "marker": {
             "colorbar": {
              "outlinewidth": 0,
              "ticks": ""
             }
            },
            "type": "scatterpolargl"
           }
          ],
          "scatterternary": [
           {
            "marker": {
             "colorbar": {
              "outlinewidth": 0,
              "ticks": ""
             }
            },
            "type": "scatterternary"
           }
          ],
          "surface": [
           {
            "colorbar": {
             "outlinewidth": 0,
             "ticks": ""
            },
            "colorscale": [
             [
              0,
              "#0d0887"
             ],
             [
              0.1111111111111111,
              "#46039f"
             ],
             [
              0.2222222222222222,
              "#7201a8"
             ],
             [
              0.3333333333333333,
              "#9c179e"
             ],
             [
              0.4444444444444444,
              "#bd3786"
             ],
             [
              0.5555555555555556,
              "#d8576b"
             ],
             [
              0.6666666666666666,
              "#ed7953"
             ],
             [
              0.7777777777777778,
              "#fb9f3a"
             ],
             [
              0.8888888888888888,
              "#fdca26"
             ],
             [
              1,
              "#f0f921"
             ]
            ],
            "type": "surface"
           }
          ],
          "table": [
           {
            "cells": {
             "fill": {
              "color": "#EBF0F8"
             },
             "line": {
              "color": "white"
             }
            },
            "header": {
             "fill": {
              "color": "#C8D4E3"
             },
             "line": {
              "color": "white"
             }
            },
            "type": "table"
           }
          ]
         },
         "layout": {
          "annotationdefaults": {
           "arrowcolor": "#2a3f5f",
           "arrowhead": 0,
           "arrowwidth": 1
          },
          "autotypenumbers": "strict",
          "coloraxis": {
           "colorbar": {
            "outlinewidth": 0,
            "ticks": ""
           }
          },
          "colorscale": {
           "diverging": [
            [
             0,
             "#8e0152"
            ],
            [
             0.1,
             "#c51b7d"
            ],
            [
             0.2,
             "#de77ae"
            ],
            [
             0.3,
             "#f1b6da"
            ],
            [
             0.4,
             "#fde0ef"
            ],
            [
             0.5,
             "#f7f7f7"
            ],
            [
             0.6,
             "#e6f5d0"
            ],
            [
             0.7,
             "#b8e186"
            ],
            [
             0.8,
             "#7fbc41"
            ],
            [
             0.9,
             "#4d9221"
            ],
            [
             1,
             "#276419"
            ]
           ],
           "sequential": [
            [
             0,
             "#0d0887"
            ],
            [
             0.1111111111111111,
             "#46039f"
            ],
            [
             0.2222222222222222,
             "#7201a8"
            ],
            [
             0.3333333333333333,
             "#9c179e"
            ],
            [
             0.4444444444444444,
             "#bd3786"
            ],
            [
             0.5555555555555556,
             "#d8576b"
            ],
            [
             0.6666666666666666,
             "#ed7953"
            ],
            [
             0.7777777777777778,
             "#fb9f3a"
            ],
            [
             0.8888888888888888,
             "#fdca26"
            ],
            [
             1,
             "#f0f921"
            ]
           ],
           "sequentialminus": [
            [
             0,
             "#0d0887"
            ],
            [
             0.1111111111111111,
             "#46039f"
            ],
            [
             0.2222222222222222,
             "#7201a8"
            ],
            [
             0.3333333333333333,
             "#9c179e"
            ],
            [
             0.4444444444444444,
             "#bd3786"
            ],
            [
             0.5555555555555556,
             "#d8576b"
            ],
            [
             0.6666666666666666,
             "#ed7953"
            ],
            [
             0.7777777777777778,
             "#fb9f3a"
            ],
            [
             0.8888888888888888,
             "#fdca26"
            ],
            [
             1,
             "#f0f921"
            ]
           ]
          },
          "colorway": [
           "#636efa",
           "#EF553B",
           "#00cc96",
           "#ab63fa",
           "#FFA15A",
           "#19d3f3",
           "#FF6692",
           "#B6E880",
           "#FF97FF",
           "#FECB52"
          ],
          "font": {
           "color": "#2a3f5f"
          },
          "geo": {
           "bgcolor": "white",
           "lakecolor": "white",
           "landcolor": "#E5ECF6",
           "showlakes": true,
           "showland": true,
           "subunitcolor": "white"
          },
          "hoverlabel": {
           "align": "left"
          },
          "hovermode": "closest",
          "mapbox": {
           "style": "light"
          },
          "paper_bgcolor": "white",
          "plot_bgcolor": "#E5ECF6",
          "polar": {
           "angularaxis": {
            "gridcolor": "white",
            "linecolor": "white",
            "ticks": ""
           },
           "bgcolor": "#E5ECF6",
           "radialaxis": {
            "gridcolor": "white",
            "linecolor": "white",
            "ticks": ""
           }
          },
          "scene": {
           "xaxis": {
            "backgroundcolor": "#E5ECF6",
            "gridcolor": "white",
            "gridwidth": 2,
            "linecolor": "white",
            "showbackground": true,
            "ticks": "",
            "zerolinecolor": "white"
           },
           "yaxis": {
            "backgroundcolor": "#E5ECF6",
            "gridcolor": "white",
            "gridwidth": 2,
            "linecolor": "white",
            "showbackground": true,
            "ticks": "",
            "zerolinecolor": "white"
           },
           "zaxis": {
            "backgroundcolor": "#E5ECF6",
            "gridcolor": "white",
            "gridwidth": 2,
            "linecolor": "white",
            "showbackground": true,
            "ticks": "",
            "zerolinecolor": "white"
           }
          },
          "shapedefaults": {
           "line": {
            "color": "#2a3f5f"
           }
          },
          "ternary": {
           "aaxis": {
            "gridcolor": "white",
            "linecolor": "white",
            "ticks": ""
           },
           "baxis": {
            "gridcolor": "white",
            "linecolor": "white",
            "ticks": ""
           },
           "bgcolor": "#E5ECF6",
           "caxis": {
            "gridcolor": "white",
            "linecolor": "white",
            "ticks": ""
           }
          },
          "title": {
           "x": 0.05
          },
          "xaxis": {
           "automargin": true,
           "gridcolor": "white",
           "linecolor": "white",
           "ticks": "",
           "title": {
            "standoff": 15
           },
           "zerolinecolor": "white",
           "zerolinewidth": 2
          },
          "yaxis": {
           "automargin": true,
           "gridcolor": "white",
           "linecolor": "white",
           "ticks": "",
           "title": {
            "standoff": 15
           },
           "zerolinecolor": "white",
           "zerolinewidth": 2
          }
         }
        },
        "title": {
         "text": "Average Lap Time vs Finish — Race 860 (race pace proxy, not a predictor)"
        },
        "xaxis": {
         "anchor": "y",
         "domain": [
          0,
          1
         ],
         "title": {
          "text": "Average Lap (sec)"
         }
        },
        "yaxis": {
         "anchor": "x",
         "autorange": "reversed",
         "domain": [
          0,
          1
         ],
         "title": {
          "text": "Finish Position"
         }
        }
       }
      }
     },
     "metadata": {},
     "output_type": "display_data"
    },
    {
     "data": {
      "application/vnd.plotly.v1+json": {
       "config": {
        "plotlyServerURL": "https://plot.ly"
       },
       "data": [
        {
         "alignmentgroup": "True",
         "hovertemplate": "positions_gained=%{x}<br>driver=%{y}<extra></extra>",
         "legendgroup": "",
         "marker": {
          "color": "#636efa",
          "pattern": {
           "shape": ""
          }
         },
         "name": "",
         "offsetgroup": "",
         "orientation": "h",
         "showlegend": false,
         "textposition": "auto",
         "type": "bar",
         "x": [
          14,
          10,
          7,
          7,
          6,
          6,
          5,
          4,
          1,
          1,
          1,
          0,
          0,
          0,
          -1,
          -2,
          -2,
          -5,
          -5,
          -16,
          -18
         ],
         "xaxis": "x",
         "y": [
          "Sergio Pérez",
          "Kimi Räikkönen",
          "Fernando Alonso",
          "Kamui Kobayashi",
          "Charles Pic",
          "Timo Glock",
          "Paul di Resta",
          "Sebastian Vettel",
          "Mark Webber",
          "Jenson Button",
          "Daniel Ricciardo",
          "Heikki Kovalainen",
          "Jean-Éric Vergne",
          "Vitaly Petrov",
          "Felipe Massa",
          "Lewis Hamilton",
          "Bruno Senna",
          "Pastor Maldonado",
          "Nico Rosberg",
          "Michael Schumacher",
          "Romain Grosjean"
         ],
         "yaxis": "y"
        }
       ],
       "layout": {
        "barmode": "relative",
        "legend": {
         "tracegroupgap": 0
        },
        "template": {
         "data": {
          "bar": [
           {
            "error_x": {
             "color": "#2a3f5f"
            },
            "error_y": {
             "color": "#2a3f5f"
            },
            "marker": {
             "line": {
              "color": "#E5ECF6",
              "width": 0.5
             },
             "pattern": {
              "fillmode": "overlay",
              "size": 10,
              "solidity": 0.2
             }
            },
            "type": "bar"
           }
          ],
          "barpolar": [
           {
            "marker": {
             "line": {
              "color": "#E5ECF6",
              "width": 0.5
             },
             "pattern": {
              "fillmode": "overlay",
              "size": 10,
              "solidity": 0.2
             }
            },
            "type": "barpolar"
           }
          ],
          "carpet": [
           {
            "aaxis": {
             "endlinecolor": "#2a3f5f",
             "gridcolor": "white",
             "linecolor": "white",
             "minorgridcolor": "white",
             "startlinecolor": "#2a3f5f"
            },
            "baxis": {
             "endlinecolor": "#2a3f5f",
             "gridcolor": "white",
             "linecolor": "white",
             "minorgridcolor": "white",
             "startlinecolor": "#2a3f5f"
            },
            "type": "carpet"
           }
          ],
          "choropleth": [
           {
            "colorbar": {
             "outlinewidth": 0,
             "ticks": ""
            },
            "type": "choropleth"
           }
          ],
          "contour": [
           {
            "colorbar": {
             "outlinewidth": 0,
             "ticks": ""
            },
            "colorscale": [
             [
              0,
              "#0d0887"
             ],
             [
              0.1111111111111111,
              "#46039f"
             ],
             [
              0.2222222222222222,
              "#7201a8"
             ],
             [
              0.3333333333333333,
              "#9c179e"
             ],
             [
              0.4444444444444444,
              "#bd3786"
             ],
             [
              0.5555555555555556,
              "#d8576b"
             ],
             [
              0.6666666666666666,
              "#ed7953"
             ],
             [
              0.7777777777777778,
              "#fb9f3a"
             ],
             [
              0.8888888888888888,
              "#fdca26"
             ],
             [
              1,
              "#f0f921"
             ]
            ],
            "type": "contour"
           }
          ],
          "contourcarpet": [
           {
            "colorbar": {
             "outlinewidth": 0,
             "ticks": ""
            },
            "type": "contourcarpet"
           }
          ],
          "heatmap": [
           {
            "colorbar": {
             "outlinewidth": 0,
             "ticks": ""
            },
            "colorscale": [
             [
              0,
              "#0d0887"
             ],
             [
              0.1111111111111111,
              "#46039f"
             ],
             [
              0.2222222222222222,
              "#7201a8"
             ],
             [
              0.3333333333333333,
              "#9c179e"
             ],
             [
              0.4444444444444444,
              "#bd3786"
             ],
             [
              0.5555555555555556,
              "#d8576b"
             ],
             [
              0.6666666666666666,
              "#ed7953"
             ],
             [
              0.7777777777777778,
              "#fb9f3a"
             ],
             [
              0.8888888888888888,
              "#fdca26"
             ],
             [
              1,
              "#f0f921"
             ]
            ],
            "type": "heatmap"
           }
          ],
          "heatmapgl": [
           {
            "colorbar": {
             "outlinewidth": 0,
             "ticks": ""
            },
            "colorscale": [
             [
              0,
              "#0d0887"
             ],
             [
              0.1111111111111111,
              "#46039f"
             ],
             [
              0.2222222222222222,
              "#7201a8"
             ],
             [
              0.3333333333333333,
              "#9c179e"
             ],
             [
              0.4444444444444444,
              "#bd3786"
             ],
             [
              0.5555555555555556,
              "#d8576b"
             ],
             [
              0.6666666666666666,
              "#ed7953"
             ],
             [
              0.7777777777777778,
              "#fb9f3a"
             ],
             [
              0.8888888888888888,
              "#fdca26"
             ],
             [
              1,
              "#f0f921"
             ]
            ],
            "type": "heatmapgl"
           }
          ],
          "histogram": [
           {
            "marker": {
             "pattern": {
              "fillmode": "overlay",
              "size": 10,
              "solidity": 0.2
             }
            },
            "type": "histogram"
           }
          ],
          "histogram2d": [
           {
            "colorbar": {
             "outlinewidth": 0,
             "ticks": ""
            },
            "colorscale": [
             [
              0,
              "#0d0887"
             ],
             [
              0.1111111111111111,
              "#46039f"
             ],
             [
              0.2222222222222222,
              "#7201a8"
             ],
             [
              0.3333333333333333,
              "#9c179e"
             ],
             [
              0.4444444444444444,
              "#bd3786"
             ],
             [
              0.5555555555555556,
              "#d8576b"
             ],
             [
              0.6666666666666666,
              "#ed7953"
             ],
             [
              0.7777777777777778,
              "#fb9f3a"
             ],
             [
              0.8888888888888888,
              "#fdca26"
             ],
             [
              1,
              "#f0f921"
             ]
            ],
            "type": "histogram2d"
           }
          ],
          "histogram2dcontour": [
           {
            "colorbar": {
             "outlinewidth": 0,
             "ticks": ""
            },
            "colorscale": [
             [
              0,
              "#0d0887"
             ],
             [
              0.1111111111111111,
              "#46039f"
             ],
             [
              0.2222222222222222,
              "#7201a8"
             ],
             [
              0.3333333333333333,
              "#9c179e"
             ],
             [
              0.4444444444444444,
              "#bd3786"
             ],
             [
              0.5555555555555556,
              "#d8576b"
             ],
             [
              0.6666666666666666,
              "#ed7953"
             ],
             [
              0.7777777777777778,
              "#fb9f3a"
             ],
             [
              0.8888888888888888,
              "#fdca26"
             ],
             [
              1,
              "#f0f921"
             ]
            ],
            "type": "histogram2dcontour"
           }
          ],
          "mesh3d": [
           {
            "colorbar": {
             "outlinewidth": 0,
             "ticks": ""
            },
            "type": "mesh3d"
           }
          ],
          "parcoords": [
           {
            "line": {
             "colorbar": {
              "outlinewidth": 0,
              "ticks": ""
             }
            },
            "type": "parcoords"
           }
          ],
          "pie": [
           {
            "automargin": true,
            "type": "pie"
           }
          ],
          "scatter": [
           {
            "fillpattern": {
             "fillmode": "overlay",
             "size": 10,
             "solidity": 0.2
            },
            "type": "scatter"
           }
          ],
          "scatter3d": [
           {
            "line": {
             "colorbar": {
              "outlinewidth": 0,
              "ticks": ""
             }
            },
            "marker": {
             "colorbar": {
              "outlinewidth": 0,
              "ticks": ""
             }
            },
            "type": "scatter3d"
           }
          ],
          "scattercarpet": [
           {
            "marker": {
             "colorbar": {
              "outlinewidth": 0,
              "ticks": ""
             }
            },
            "type": "scattercarpet"
           }
          ],
          "scattergeo": [
           {
            "marker": {
             "colorbar": {
              "outlinewidth": 0,
              "ticks": ""
             }
            },
            "type": "scattergeo"
           }
          ],
          "scattergl": [
           {
            "marker": {
             "colorbar": {
              "outlinewidth": 0,
              "ticks": ""
             }
            },
            "type": "scattergl"
           }
          ],
          "scattermapbox": [
           {
            "marker": {
             "colorbar": {
              "outlinewidth": 0,
              "ticks": ""
             }
            },
            "type": "scattermapbox"
           }
          ],
          "scatterpolar": [
           {
            "marker": {
             "colorbar": {
              "outlinewidth": 0,
              "ticks": ""
             }
            },
            "type": "scatterpolar"
           }
          ],
          "scatterpolargl": [
           {
            "marker": {
             "colorbar": {
              "outlinewidth": 0,
              "ticks": ""
             }
            },
            "type": "scatterpolargl"
           }
          ],
          "scatterternary": [
           {
            "marker": {
             "colorbar": {
              "outlinewidth": 0,
              "ticks": ""
             }
            },
            "type": "scatterternary"
           }
          ],
          "surface": [
           {
            "colorbar": {
             "outlinewidth": 0,
             "ticks": ""
            },
            "colorscale": [
             [
              0,
              "#0d0887"
             ],
             [
              0.1111111111111111,
              "#46039f"
             ],
             [
              0.2222222222222222,
              "#7201a8"
             ],
             [
              0.3333333333333333,
              "#9c179e"
             ],
             [
              0.4444444444444444,
              "#bd3786"
             ],
             [
              0.5555555555555556,
              "#d8576b"
             ],
             [
              0.6666666666666666,
              "#ed7953"
             ],
             [
              0.7777777777777778,
              "#fb9f3a"
             ],
             [
              0.8888888888888888,
              "#fdca26"
             ],
             [
              1,
              "#f0f921"
             ]
            ],
            "type": "surface"
           }
          ],
          "table": [
           {
            "cells": {
             "fill": {
              "color": "#EBF0F8"
             },
             "line": {
              "color": "white"
             }
            },
            "header": {
             "fill": {
              "color": "#C8D4E3"
             },
             "line": {
              "color": "white"
             }
            },
            "type": "table"
           }
          ]
         },
         "layout": {
          "annotationdefaults": {
           "arrowcolor": "#2a3f5f",
           "arrowhead": 0,
           "arrowwidth": 1
          },
          "autotypenumbers": "strict",
          "coloraxis": {
           "colorbar": {
            "outlinewidth": 0,
            "ticks": ""
           }
          },
          "colorscale": {
           "diverging": [
            [
             0,
             "#8e0152"
            ],
            [
             0.1,
             "#c51b7d"
            ],
            [
             0.2,
             "#de77ae"
            ],
            [
             0.3,
             "#f1b6da"
            ],
            [
             0.4,
             "#fde0ef"
            ],
            [
             0.5,
             "#f7f7f7"
            ],
            [
             0.6,
             "#e6f5d0"
            ],
            [
             0.7,
             "#b8e186"
            ],
            [
             0.8,
             "#7fbc41"
            ],
            [
             0.9,
             "#4d9221"
            ],
            [
             1,
             "#276419"
            ]
           ],
           "sequential": [
            [
             0,
             "#0d0887"
            ],
            [
             0.1111111111111111,
             "#46039f"
            ],
            [
             0.2222222222222222,
             "#7201a8"
            ],
            [
             0.3333333333333333,
             "#9c179e"
            ],
            [
             0.4444444444444444,
             "#bd3786"
            ],
            [
             0.5555555555555556,
             "#d8576b"
            ],
            [
             0.6666666666666666,
             "#ed7953"
            ],
            [
             0.7777777777777778,
             "#fb9f3a"
            ],
            [
             0.8888888888888888,
             "#fdca26"
            ],
            [
             1,
             "#f0f921"
            ]
           ],
           "sequentialminus": [
            [
             0,
             "#0d0887"
            ],
            [
             0.1111111111111111,
             "#46039f"
            ],
            [
             0.2222222222222222,
             "#7201a8"
            ],
            [
             0.3333333333333333,
             "#9c179e"
            ],
            [
             0.4444444444444444,
             "#bd3786"
            ],
            [
             0.5555555555555556,
             "#d8576b"
            ],
            [
             0.6666666666666666,
             "#ed7953"
            ],
            [
             0.7777777777777778,
             "#fb9f3a"
            ],
            [
             0.8888888888888888,
             "#fdca26"
            ],
            [
             1,
             "#f0f921"
            ]
           ]
          },
          "colorway": [
           "#636efa",
           "#EF553B",
           "#00cc96",
           "#ab63fa",
           "#FFA15A",
           "#19d3f3",
           "#FF6692",
           "#B6E880",
           "#FF97FF",
           "#FECB52"
          ],
          "font": {
           "color": "#2a3f5f"
          },
          "geo": {
           "bgcolor": "white",
           "lakecolor": "white",
           "landcolor": "#E5ECF6",
           "showlakes": true,
           "showland": true,
           "subunitcolor": "white"
          },
          "hoverlabel": {
           "align": "left"
          },
          "hovermode": "closest",
          "mapbox": {
           "style": "light"
          },
          "paper_bgcolor": "white",
          "plot_bgcolor": "#E5ECF6",
          "polar": {
           "angularaxis": {
            "gridcolor": "white",
            "linecolor": "white",
            "ticks": ""
           },
           "bgcolor": "#E5ECF6",
           "radialaxis": {
            "gridcolor": "white",
            "linecolor": "white",
            "ticks": ""
           }
          },
          "scene": {
           "xaxis": {
            "backgroundcolor": "#E5ECF6",
            "gridcolor": "white",
            "gridwidth": 2,
            "linecolor": "white",
            "showbackground": true,
            "ticks": "",
            "zerolinecolor": "white"
           },
           "yaxis": {
            "backgroundcolor": "#E5ECF6",
            "gridcolor": "white",
            "gridwidth": 2,
            "linecolor": "white",
            "showbackground": true,
            "ticks": "",
            "zerolinecolor": "white"
           },
           "zaxis": {
            "backgroundcolor": "#E5ECF6",
            "gridcolor": "white",
            "gridwidth": 2,
            "linecolor": "white",
            "showbackground": true,
            "ticks": "",
            "zerolinecolor": "white"
           }
          },
          "shapedefaults": {
           "line": {
            "color": "#2a3f5f"
           }
          },
          "ternary": {
           "aaxis": {
            "gridcolor": "white",
            "linecolor": "white",
            "ticks": ""
           },
           "baxis": {
            "gridcolor": "white",
            "linecolor": "white",
            "ticks": ""
           },
           "bgcolor": "#E5ECF6",
           "caxis": {
            "gridcolor": "white",
            "linecolor": "white",
            "ticks": ""
           }
          },
          "title": {
           "x": 0.05
          },
          "xaxis": {
           "automargin": true,
           "gridcolor": "white",
           "linecolor": "white",
           "ticks": "",
           "title": {
            "standoff": 15
           },
           "zerolinecolor": "white",
           "zerolinewidth": 2
          },
          "yaxis": {
           "automargin": true,
           "gridcolor": "white",
           "linecolor": "white",
           "ticks": "",
           "title": {
            "standoff": 15
           },
           "zerolinecolor": "white",
           "zerolinewidth": 2
          }
         }
        },
        "title": {
         "text": "Positions Gained (Grid − Finish) — Race 860"
        },
        "xaxis": {
         "anchor": "y",
         "domain": [
          0,
          1
         ],
         "title": {
          "text": "Positions Gained (+ is better)"
         }
        },
        "yaxis": {
         "anchor": "x",
         "domain": [
          0,
          1
         ],
         "title": {
          "text": "Driver"
         }
        }
       }
      }
     },
     "metadata": {},
     "output_type": "display_data"
    },
    {
     "data": {
      "application/vnd.plotly.v1+json": {
       "config": {
        "plotlyServerURL": "https://plot.ly"
       },
       "data": [
        {
         "customdata": [
          [
           "Lewis Hamilton",
           2
          ],
          [
           "Nico Rosberg",
           2
          ],
          [
           "Fernando Alonso",
           2
          ],
          [
           "Heikki Kovalainen",
           3
          ],
          [
           "Kimi Räikkönen",
           2
          ],
          [
           "Timo Glock",
           2
          ],
          [
           "Felipe Massa",
           3
          ],
          [
           "Mark Webber",
           2
          ],
          [
           "Jenson Button",
           2
          ],
          [
           "Sebastian Vettel",
           2
          ],
          [
           "Kamui Kobayashi",
           2
          ],
          [
           "Vitaly Petrov",
           1
          ],
          [
           "Bruno Senna",
           3
          ],
          [
           "Pastor Maldonado",
           2
          ],
          [
           "Paul di Resta",
           2
          ],
          [
           "Sergio Pérez",
           1
          ],
          [
           "Daniel Ricciardo",
           3
          ],
          [
           "Jean-Éric Vergne",
           2
          ],
          [
           "Charles Pic",
           3
          ]
         ],
         "hovertemplate": "avg_stop_sec=%{x}<br>finish_position=%{y}<br>driver=%{customdata[0]}<br>total_stops=%{customdata[1]}<extra></extra>",
         "legendgroup": "",
         "marker": {
          "color": "#636efa",
          "symbol": "circle"
         },
         "mode": "markers",
         "name": "",
         "orientation": "h",
         "showlegend": false,
         "type": "scatter",
         "x": [
          23.163,
          23.11,
          21.9725,
          25.955,
          24.0955,
          25.684,
          22.314666666666668,
          23.1085,
          23.056,
          24.1935,
          24.754,
          24.579,
          26.421333333333333,
          23.2965,
          24.756,
          23.882,
          26.641333333333332,
          23.386,
          30.458333333333332
         ],
         "xaxis": "x",
         "y": [
          "3",
          "12",
          "5",
          "\\N",
          "7",
          "14",
          "\\N",
          "4",
          "1",
          "2",
          "6",
          "\\N",
          "16",
          "13",
          "10",
          "8",
          "9",
          "11",
          "15"
         ],
         "yaxis": "y"
        }
       ],
       "layout": {
        "legend": {
         "tracegroupgap": 0
        },
        "template": {
         "data": {
          "bar": [
           {
            "error_x": {
             "color": "#2a3f5f"
            },
            "error_y": {
             "color": "#2a3f5f"
            },
            "marker": {
             "line": {
              "color": "#E5ECF6",
              "width": 0.5
             },
             "pattern": {
              "fillmode": "overlay",
              "size": 10,
              "solidity": 0.2
             }
            },
            "type": "bar"
           }
          ],
          "barpolar": [
           {
            "marker": {
             "line": {
              "color": "#E5ECF6",
              "width": 0.5
             },
             "pattern": {
              "fillmode": "overlay",
              "size": 10,
              "solidity": 0.2
             }
            },
            "type": "barpolar"
           }
          ],
          "carpet": [
           {
            "aaxis": {
             "endlinecolor": "#2a3f5f",
             "gridcolor": "white",
             "linecolor": "white",
             "minorgridcolor": "white",
             "startlinecolor": "#2a3f5f"
            },
            "baxis": {
             "endlinecolor": "#2a3f5f",
             "gridcolor": "white",
             "linecolor": "white",
             "minorgridcolor": "white",
             "startlinecolor": "#2a3f5f"
            },
            "type": "carpet"
           }
          ],
          "choropleth": [
           {
            "colorbar": {
             "outlinewidth": 0,
             "ticks": ""
            },
            "type": "choropleth"
           }
          ],
          "contour": [
           {
            "colorbar": {
             "outlinewidth": 0,
             "ticks": ""
            },
            "colorscale": [
             [
              0,
              "#0d0887"
             ],
             [
              0.1111111111111111,
              "#46039f"
             ],
             [
              0.2222222222222222,
              "#7201a8"
             ],
             [
              0.3333333333333333,
              "#9c179e"
             ],
             [
              0.4444444444444444,
              "#bd3786"
             ],
             [
              0.5555555555555556,
              "#d8576b"
             ],
             [
              0.6666666666666666,
              "#ed7953"
             ],
             [
              0.7777777777777778,
              "#fb9f3a"
             ],
             [
              0.8888888888888888,
              "#fdca26"
             ],
             [
              1,
              "#f0f921"
             ]
            ],
            "type": "contour"
           }
          ],
          "contourcarpet": [
           {
            "colorbar": {
             "outlinewidth": 0,
             "ticks": ""
            },
            "type": "contourcarpet"
           }
          ],
          "heatmap": [
           {
            "colorbar": {
             "outlinewidth": 0,
             "ticks": ""
            },
            "colorscale": [
             [
              0,
              "#0d0887"
             ],
             [
              0.1111111111111111,
              "#46039f"
             ],
             [
              0.2222222222222222,
              "#7201a8"
             ],
             [
              0.3333333333333333,
              "#9c179e"
             ],
             [
              0.4444444444444444,
              "#bd3786"
             ],
             [
              0.5555555555555556,
              "#d8576b"
             ],
             [
              0.6666666666666666,
              "#ed7953"
             ],
             [
              0.7777777777777778,
              "#fb9f3a"
             ],
             [
              0.8888888888888888,
              "#fdca26"
             ],
             [
              1,
              "#f0f921"
             ]
            ],
            "type": "heatmap"
           }
          ],
          "heatmapgl": [
           {
            "colorbar": {
             "outlinewidth": 0,
             "ticks": ""
            },
            "colorscale": [
             [
              0,
              "#0d0887"
             ],
             [
              0.1111111111111111,
              "#46039f"
             ],
             [
              0.2222222222222222,
              "#7201a8"
             ],
             [
              0.3333333333333333,
              "#9c179e"
             ],
             [
              0.4444444444444444,
              "#bd3786"
             ],
             [
              0.5555555555555556,
              "#d8576b"
             ],
             [
              0.6666666666666666,
              "#ed7953"
             ],
             [
              0.7777777777777778,
              "#fb9f3a"
             ],
             [
              0.8888888888888888,
              "#fdca26"
             ],
             [
              1,
              "#f0f921"
             ]
            ],
            "type": "heatmapgl"
           }
          ],
          "histogram": [
           {
            "marker": {
             "pattern": {
              "fillmode": "overlay",
              "size": 10,
              "solidity": 0.2
             }
            },
            "type": "histogram"
           }
          ],
          "histogram2d": [
           {
            "colorbar": {
             "outlinewidth": 0,
             "ticks": ""
            },
            "colorscale": [
             [
              0,
              "#0d0887"
             ],
             [
              0.1111111111111111,
              "#46039f"
             ],
             [
              0.2222222222222222,
              "#7201a8"
             ],
             [
              0.3333333333333333,
              "#9c179e"
             ],
             [
              0.4444444444444444,
              "#bd3786"
             ],
             [
              0.5555555555555556,
              "#d8576b"
             ],
             [
              0.6666666666666666,
              "#ed7953"
             ],
             [
              0.7777777777777778,
              "#fb9f3a"
             ],
             [
              0.8888888888888888,
              "#fdca26"
             ],
             [
              1,
              "#f0f921"
             ]
            ],
            "type": "histogram2d"
           }
          ],
          "histogram2dcontour": [
           {
            "colorbar": {
             "outlinewidth": 0,
             "ticks": ""
            },
            "colorscale": [
             [
              0,
              "#0d0887"
             ],
             [
              0.1111111111111111,
              "#46039f"
             ],
             [
              0.2222222222222222,
              "#7201a8"
             ],
             [
              0.3333333333333333,
              "#9c179e"
             ],
             [
              0.4444444444444444,
              "#bd3786"
             ],
             [
              0.5555555555555556,
              "#d8576b"
             ],
             [
              0.6666666666666666,
              "#ed7953"
             ],
             [
              0.7777777777777778,
              "#fb9f3a"
             ],
             [
              0.8888888888888888,
              "#fdca26"
             ],
             [
              1,
              "#f0f921"
             ]
            ],
            "type": "histogram2dcontour"
           }
          ],
          "mesh3d": [
           {
            "colorbar": {
             "outlinewidth": 0,
             "ticks": ""
            },
            "type": "mesh3d"
           }
          ],
          "parcoords": [
           {
            "line": {
             "colorbar": {
              "outlinewidth": 0,
              "ticks": ""
             }
            },
            "type": "parcoords"
           }
          ],
          "pie": [
           {
            "automargin": true,
            "type": "pie"
           }
          ],
          "scatter": [
           {
            "fillpattern": {
             "fillmode": "overlay",
             "size": 10,
             "solidity": 0.2
            },
            "type": "scatter"
           }
          ],
          "scatter3d": [
           {
            "line": {
             "colorbar": {
              "outlinewidth": 0,
              "ticks": ""
             }
            },
            "marker": {
             "colorbar": {
              "outlinewidth": 0,
              "ticks": ""
             }
            },
            "type": "scatter3d"
           }
          ],
          "scattercarpet": [
           {
            "marker": {
             "colorbar": {
              "outlinewidth": 0,
              "ticks": ""
             }
            },
            "type": "scattercarpet"
           }
          ],
          "scattergeo": [
           {
            "marker": {
             "colorbar": {
              "outlinewidth": 0,
              "ticks": ""
             }
            },
            "type": "scattergeo"
           }
          ],
          "scattergl": [
           {
            "marker": {
             "colorbar": {
              "outlinewidth": 0,
              "ticks": ""
             }
            },
            "type": "scattergl"
           }
          ],
          "scattermapbox": [
           {
            "marker": {
             "colorbar": {
              "outlinewidth": 0,
              "ticks": ""
             }
            },
            "type": "scattermapbox"
           }
          ],
          "scatterpolar": [
           {
            "marker": {
             "colorbar": {
              "outlinewidth": 0,
              "ticks": ""
             }
            },
            "type": "scatterpolar"
           }
          ],
          "scatterpolargl": [
           {
            "marker": {
             "colorbar": {
              "outlinewidth": 0,
              "ticks": ""
             }
            },
            "type": "scatterpolargl"
           }
          ],
          "scatterternary": [
           {
            "marker": {
             "colorbar": {
              "outlinewidth": 0,
              "ticks": ""
             }
            },
            "type": "scatterternary"
           }
          ],
          "surface": [
           {
            "colorbar": {
             "outlinewidth": 0,
             "ticks": ""
            },
            "colorscale": [
             [
              0,
              "#0d0887"
             ],
             [
              0.1111111111111111,
              "#46039f"
             ],
             [
              0.2222222222222222,
              "#7201a8"
             ],
             [
              0.3333333333333333,
              "#9c179e"
             ],
             [
              0.4444444444444444,
              "#bd3786"
             ],
             [
              0.5555555555555556,
              "#d8576b"
             ],
             [
              0.6666666666666666,
              "#ed7953"
             ],
             [
              0.7777777777777778,
              "#fb9f3a"
             ],
             [
              0.8888888888888888,
              "#fdca26"
             ],
             [
              1,
              "#f0f921"
             ]
            ],
            "type": "surface"
           }
          ],
          "table": [
           {
            "cells": {
             "fill": {
              "color": "#EBF0F8"
             },
             "line": {
              "color": "white"
             }
            },
            "header": {
             "fill": {
              "color": "#C8D4E3"
             },
             "line": {
              "color": "white"
             }
            },
            "type": "table"
           }
          ]
         },
         "layout": {
          "annotationdefaults": {
           "arrowcolor": "#2a3f5f",
           "arrowhead": 0,
           "arrowwidth": 1
          },
          "autotypenumbers": "strict",
          "coloraxis": {
           "colorbar": {
            "outlinewidth": 0,
            "ticks": ""
           }
          },
          "colorscale": {
           "diverging": [
            [
             0,
             "#8e0152"
            ],
            [
             0.1,
             "#c51b7d"
            ],
            [
             0.2,
             "#de77ae"
            ],
            [
             0.3,
             "#f1b6da"
            ],
            [
             0.4,
             "#fde0ef"
            ],
            [
             0.5,
             "#f7f7f7"
            ],
            [
             0.6,
             "#e6f5d0"
            ],
            [
             0.7,
             "#b8e186"
            ],
            [
             0.8,
             "#7fbc41"
            ],
            [
             0.9,
             "#4d9221"
            ],
            [
             1,
             "#276419"
            ]
           ],
           "sequential": [
            [
             0,
             "#0d0887"
            ],
            [
             0.1111111111111111,
             "#46039f"
            ],
            [
             0.2222222222222222,
             "#7201a8"
            ],
            [
             0.3333333333333333,
             "#9c179e"
            ],
            [
             0.4444444444444444,
             "#bd3786"
            ],
            [
             0.5555555555555556,
             "#d8576b"
            ],
            [
             0.6666666666666666,
             "#ed7953"
            ],
            [
             0.7777777777777778,
             "#fb9f3a"
            ],
            [
             0.8888888888888888,
             "#fdca26"
            ],
            [
             1,
             "#f0f921"
            ]
           ],
           "sequentialminus": [
            [
             0,
             "#0d0887"
            ],
            [
             0.1111111111111111,
             "#46039f"
            ],
            [
             0.2222222222222222,
             "#7201a8"
            ],
            [
             0.3333333333333333,
             "#9c179e"
            ],
            [
             0.4444444444444444,
             "#bd3786"
            ],
            [
             0.5555555555555556,
             "#d8576b"
            ],
            [
             0.6666666666666666,
             "#ed7953"
            ],
            [
             0.7777777777777778,
             "#fb9f3a"
            ],
            [
             0.8888888888888888,
             "#fdca26"
            ],
            [
             1,
             "#f0f921"
            ]
           ]
          },
          "colorway": [
           "#636efa",
           "#EF553B",
           "#00cc96",
           "#ab63fa",
           "#FFA15A",
           "#19d3f3",
           "#FF6692",
           "#B6E880",
           "#FF97FF",
           "#FECB52"
          ],
          "font": {
           "color": "#2a3f5f"
          },
          "geo": {
           "bgcolor": "white",
           "lakecolor": "white",
           "landcolor": "#E5ECF6",
           "showlakes": true,
           "showland": true,
           "subunitcolor": "white"
          },
          "hoverlabel": {
           "align": "left"
          },
          "hovermode": "closest",
          "mapbox": {
           "style": "light"
          },
          "paper_bgcolor": "white",
          "plot_bgcolor": "#E5ECF6",
          "polar": {
           "angularaxis": {
            "gridcolor": "white",
            "linecolor": "white",
            "ticks": ""
           },
           "bgcolor": "#E5ECF6",
           "radialaxis": {
            "gridcolor": "white",
            "linecolor": "white",
            "ticks": ""
           }
          },
          "scene": {
           "xaxis": {
            "backgroundcolor": "#E5ECF6",
            "gridcolor": "white",
            "gridwidth": 2,
            "linecolor": "white",
            "showbackground": true,
            "ticks": "",
            "zerolinecolor": "white"
           },
           "yaxis": {
            "backgroundcolor": "#E5ECF6",
            "gridcolor": "white",
            "gridwidth": 2,
            "linecolor": "white",
            "showbackground": true,
            "ticks": "",
            "zerolinecolor": "white"
           },
           "zaxis": {
            "backgroundcolor": "#E5ECF6",
            "gridcolor": "white",
            "gridwidth": 2,
            "linecolor": "white",
            "showbackground": true,
            "ticks": "",
            "zerolinecolor": "white"
           }
          },
          "shapedefaults": {
           "line": {
            "color": "#2a3f5f"
           }
          },
          "ternary": {
           "aaxis": {
            "gridcolor": "white",
            "linecolor": "white",
            "ticks": ""
           },
           "baxis": {
            "gridcolor": "white",
            "linecolor": "white",
            "ticks": ""
           },
           "bgcolor": "#E5ECF6",
           "caxis": {
            "gridcolor": "white",
            "linecolor": "white",
            "ticks": ""
           }
          },
          "title": {
           "x": 0.05
          },
          "xaxis": {
           "automargin": true,
           "gridcolor": "white",
           "linecolor": "white",
           "ticks": "",
           "title": {
            "standoff": 15
           },
           "zerolinecolor": "white",
           "zerolinewidth": 2
          },
          "yaxis": {
           "automargin": true,
           "gridcolor": "white",
           "linecolor": "white",
           "ticks": "",
           "title": {
            "standoff": 15
           },
           "zerolinecolor": "white",
           "zerolinewidth": 2
          }
         }
        },
        "title": {
         "text": "Avg Pit Stop (sec) vs Finish — Race 860"
        },
        "xaxis": {
         "anchor": "y",
         "domain": [
          0,
          1
         ],
         "title": {
          "text": "Avg Pit Stop (sec)"
         }
        },
        "yaxis": {
         "anchor": "x",
         "autorange": "reversed",
         "domain": [
          0,
          1
         ],
         "title": {
          "text": "Finish (lower is better)"
         }
        }
       }
      }
     },
     "metadata": {},
     "output_type": "display_data"
    },
    {
     "data": {
      "application/vnd.plotly.v1+json": {
       "config": {
        "plotlyServerURL": "https://plot.ly"
       },
       "data": [
        {
         "alignmentgroup": "True",
         "hovertemplate": "nationality=%{x}<br>total_wins=%{y}<extra></extra>",
         "legendgroup": "",
         "marker": {
          "color": "#636efa",
          "pattern": {
           "shape": ""
          }
         },
         "name": "",
         "offsetgroup": "",
         "orientation": "v",
         "showlegend": false,
         "textposition": "auto",
         "type": "bar",
         "x": [
          "British",
          "German",
          "Brazilian",
          "French",
          "Dutch",
          "Finnish",
          "Australian",
          "Italian",
          "Austrian",
          "Argentine"
         ],
         "xaxis": "x",
         "y": [
          317,
          179,
          101,
          81,
          63,
          57,
          45,
          43,
          41,
          38
         ],
         "yaxis": "y"
        }
       ],
       "layout": {
        "barmode": "relative",
        "legend": {
         "tracegroupgap": 0
        },
        "template": {
         "data": {
          "bar": [
           {
            "error_x": {
             "color": "#2a3f5f"
            },
            "error_y": {
             "color": "#2a3f5f"
            },
            "marker": {
             "line": {
              "color": "#E5ECF6",
              "width": 0.5
             },
             "pattern": {
              "fillmode": "overlay",
              "size": 10,
              "solidity": 0.2
             }
            },
            "type": "bar"
           }
          ],
          "barpolar": [
           {
            "marker": {
             "line": {
              "color": "#E5ECF6",
              "width": 0.5
             },
             "pattern": {
              "fillmode": "overlay",
              "size": 10,
              "solidity": 0.2
             }
            },
            "type": "barpolar"
           }
          ],
          "carpet": [
           {
            "aaxis": {
             "endlinecolor": "#2a3f5f",
             "gridcolor": "white",
             "linecolor": "white",
             "minorgridcolor": "white",
             "startlinecolor": "#2a3f5f"
            },
            "baxis": {
             "endlinecolor": "#2a3f5f",
             "gridcolor": "white",
             "linecolor": "white",
             "minorgridcolor": "white",
             "startlinecolor": "#2a3f5f"
            },
            "type": "carpet"
           }
          ],
          "choropleth": [
           {
            "colorbar": {
             "outlinewidth": 0,
             "ticks": ""
            },
            "type": "choropleth"
           }
          ],
          "contour": [
           {
            "colorbar": {
             "outlinewidth": 0,
             "ticks": ""
            },
            "colorscale": [
             [
              0,
              "#0d0887"
             ],
             [
              0.1111111111111111,
              "#46039f"
             ],
             [
              0.2222222222222222,
              "#7201a8"
             ],
             [
              0.3333333333333333,
              "#9c179e"
             ],
             [
              0.4444444444444444,
              "#bd3786"
             ],
             [
              0.5555555555555556,
              "#d8576b"
             ],
             [
              0.6666666666666666,
              "#ed7953"
             ],
             [
              0.7777777777777778,
              "#fb9f3a"
             ],
             [
              0.8888888888888888,
              "#fdca26"
             ],
             [
              1,
              "#f0f921"
             ]
            ],
            "type": "contour"
           }
          ],
          "contourcarpet": [
           {
            "colorbar": {
             "outlinewidth": 0,
             "ticks": ""
            },
            "type": "contourcarpet"
           }
          ],
          "heatmap": [
           {
            "colorbar": {
             "outlinewidth": 0,
             "ticks": ""
            },
            "colorscale": [
             [
              0,
              "#0d0887"
             ],
             [
              0.1111111111111111,
              "#46039f"
             ],
             [
              0.2222222222222222,
              "#7201a8"
             ],
             [
              0.3333333333333333,
              "#9c179e"
             ],
             [
              0.4444444444444444,
              "#bd3786"
             ],
             [
              0.5555555555555556,
              "#d8576b"
             ],
             [
              0.6666666666666666,
              "#ed7953"
             ],
             [
              0.7777777777777778,
              "#fb9f3a"
             ],
             [
              0.8888888888888888,
              "#fdca26"
             ],
             [
              1,
              "#f0f921"
             ]
            ],
            "type": "heatmap"
           }
          ],
          "heatmapgl": [
           {
            "colorbar": {
             "outlinewidth": 0,
             "ticks": ""
            },
            "colorscale": [
             [
              0,
              "#0d0887"
             ],
             [
              0.1111111111111111,
              "#46039f"
             ],
             [
              0.2222222222222222,
              "#7201a8"
             ],
             [
              0.3333333333333333,
              "#9c179e"
             ],
             [
              0.4444444444444444,
              "#bd3786"
             ],
             [
              0.5555555555555556,
              "#d8576b"
             ],
             [
              0.6666666666666666,
              "#ed7953"
             ],
             [
              0.7777777777777778,
              "#fb9f3a"
             ],
             [
              0.8888888888888888,
              "#fdca26"
             ],
             [
              1,
              "#f0f921"
             ]
            ],
            "type": "heatmapgl"
           }
          ],
          "histogram": [
           {
            "marker": {
             "pattern": {
              "fillmode": "overlay",
              "size": 10,
              "solidity": 0.2
             }
            },
            "type": "histogram"
           }
          ],
          "histogram2d": [
           {
            "colorbar": {
             "outlinewidth": 0,
             "ticks": ""
            },
            "colorscale": [
             [
              0,
              "#0d0887"
             ],
             [
              0.1111111111111111,
              "#46039f"
             ],
             [
              0.2222222222222222,
              "#7201a8"
             ],
             [
              0.3333333333333333,
              "#9c179e"
             ],
             [
              0.4444444444444444,
              "#bd3786"
             ],
             [
              0.5555555555555556,
              "#d8576b"
             ],
             [
              0.6666666666666666,
              "#ed7953"
             ],
             [
              0.7777777777777778,
              "#fb9f3a"
             ],
             [
              0.8888888888888888,
              "#fdca26"
             ],
             [
              1,
              "#f0f921"
             ]
            ],
            "type": "histogram2d"
           }
          ],
          "histogram2dcontour": [
           {
            "colorbar": {
             "outlinewidth": 0,
             "ticks": ""
            },
            "colorscale": [
             [
              0,
              "#0d0887"
             ],
             [
              0.1111111111111111,
              "#46039f"
             ],
             [
              0.2222222222222222,
              "#7201a8"
             ],
             [
              0.3333333333333333,
              "#9c179e"
             ],
             [
              0.4444444444444444,
              "#bd3786"
             ],
             [
              0.5555555555555556,
              "#d8576b"
             ],
             [
              0.6666666666666666,
              "#ed7953"
             ],
             [
              0.7777777777777778,
              "#fb9f3a"
             ],
             [
              0.8888888888888888,
              "#fdca26"
             ],
             [
              1,
              "#f0f921"
             ]
            ],
            "type": "histogram2dcontour"
           }
          ],
          "mesh3d": [
           {
            "colorbar": {
             "outlinewidth": 0,
             "ticks": ""
            },
            "type": "mesh3d"
           }
          ],
          "parcoords": [
           {
            "line": {
             "colorbar": {
              "outlinewidth": 0,
              "ticks": ""
             }
            },
            "type": "parcoords"
           }
          ],
          "pie": [
           {
            "automargin": true,
            "type": "pie"
           }
          ],
          "scatter": [
           {
            "fillpattern": {
             "fillmode": "overlay",
             "size": 10,
             "solidity": 0.2
            },
            "type": "scatter"
           }
          ],
          "scatter3d": [
           {
            "line": {
             "colorbar": {
              "outlinewidth": 0,
              "ticks": ""
             }
            },
            "marker": {
             "colorbar": {
              "outlinewidth": 0,
              "ticks": ""
             }
            },
            "type": "scatter3d"
           }
          ],
          "scattercarpet": [
           {
            "marker": {
             "colorbar": {
              "outlinewidth": 0,
              "ticks": ""
             }
            },
            "type": "scattercarpet"
           }
          ],
          "scattergeo": [
           {
            "marker": {
             "colorbar": {
              "outlinewidth": 0,
              "ticks": ""
             }
            },
            "type": "scattergeo"
           }
          ],
          "scattergl": [
           {
            "marker": {
             "colorbar": {
              "outlinewidth": 0,
              "ticks": ""
             }
            },
            "type": "scattergl"
           }
          ],
          "scattermapbox": [
           {
            "marker": {
             "colorbar": {
              "outlinewidth": 0,
              "ticks": ""
             }
            },
            "type": "scattermapbox"
           }
          ],
          "scatterpolar": [
           {
            "marker": {
             "colorbar": {
              "outlinewidth": 0,
              "ticks": ""
             }
            },
            "type": "scatterpolar"
           }
          ],
          "scatterpolargl": [
           {
            "marker": {
             "colorbar": {
              "outlinewidth": 0,
              "ticks": ""
             }
            },
            "type": "scatterpolargl"
           }
          ],
          "scatterternary": [
           {
            "marker": {
             "colorbar": {
              "outlinewidth": 0,
              "ticks": ""
             }
            },
            "type": "scatterternary"
           }
          ],
          "surface": [
           {
            "colorbar": {
             "outlinewidth": 0,
             "ticks": ""
            },
            "colorscale": [
             [
              0,
              "#0d0887"
             ],
             [
              0.1111111111111111,
              "#46039f"
             ],
             [
              0.2222222222222222,
              "#7201a8"
             ],
             [
              0.3333333333333333,
              "#9c179e"
             ],
             [
              0.4444444444444444,
              "#bd3786"
             ],
             [
              0.5555555555555556,
              "#d8576b"
             ],
             [
              0.6666666666666666,
              "#ed7953"
             ],
             [
              0.7777777777777778,
              "#fb9f3a"
             ],
             [
              0.8888888888888888,
              "#fdca26"
             ],
             [
              1,
              "#f0f921"
             ]
            ],
            "type": "surface"
           }
          ],
          "table": [
           {
            "cells": {
             "fill": {
              "color": "#EBF0F8"
             },
             "line": {
              "color": "white"
             }
            },
            "header": {
             "fill": {
              "color": "#C8D4E3"
             },
             "line": {
              "color": "white"
             }
            },
            "type": "table"
           }
          ]
         },
         "layout": {
          "annotationdefaults": {
           "arrowcolor": "#2a3f5f",
           "arrowhead": 0,
           "arrowwidth": 1
          },
          "autotypenumbers": "strict",
          "coloraxis": {
           "colorbar": {
            "outlinewidth": 0,
            "ticks": ""
           }
          },
          "colorscale": {
           "diverging": [
            [
             0,
             "#8e0152"
            ],
            [
             0.1,
             "#c51b7d"
            ],
            [
             0.2,
             "#de77ae"
            ],
            [
             0.3,
             "#f1b6da"
            ],
            [
             0.4,
             "#fde0ef"
            ],
            [
             0.5,
             "#f7f7f7"
            ],
            [
             0.6,
             "#e6f5d0"
            ],
            [
             0.7,
             "#b8e186"
            ],
            [
             0.8,
             "#7fbc41"
            ],
            [
             0.9,
             "#4d9221"
            ],
            [
             1,
             "#276419"
            ]
           ],
           "sequential": [
            [
             0,
             "#0d0887"
            ],
            [
             0.1111111111111111,
             "#46039f"
            ],
            [
             0.2222222222222222,
             "#7201a8"
            ],
            [
             0.3333333333333333,
             "#9c179e"
            ],
            [
             0.4444444444444444,
             "#bd3786"
            ],
            [
             0.5555555555555556,
             "#d8576b"
            ],
            [
             0.6666666666666666,
             "#ed7953"
            ],
            [
             0.7777777777777778,
             "#fb9f3a"
            ],
            [
             0.8888888888888888,
             "#fdca26"
            ],
            [
             1,
             "#f0f921"
            ]
           ],
           "sequentialminus": [
            [
             0,
             "#0d0887"
            ],
            [
             0.1111111111111111,
             "#46039f"
            ],
            [
             0.2222222222222222,
             "#7201a8"
            ],
            [
             0.3333333333333333,
             "#9c179e"
            ],
            [
             0.4444444444444444,
             "#bd3786"
            ],
            [
             0.5555555555555556,
             "#d8576b"
            ],
            [
             0.6666666666666666,
             "#ed7953"
            ],
            [
             0.7777777777777778,
             "#fb9f3a"
            ],
            [
             0.8888888888888888,
             "#fdca26"
            ],
            [
             1,
             "#f0f921"
            ]
           ]
          },
          "colorway": [
           "#636efa",
           "#EF553B",
           "#00cc96",
           "#ab63fa",
           "#FFA15A",
           "#19d3f3",
           "#FF6692",
           "#B6E880",
           "#FF97FF",
           "#FECB52"
          ],
          "font": {
           "color": "#2a3f5f"
          },
          "geo": {
           "bgcolor": "white",
           "lakecolor": "white",
           "landcolor": "#E5ECF6",
           "showlakes": true,
           "showland": true,
           "subunitcolor": "white"
          },
          "hoverlabel": {
           "align": "left"
          },
          "hovermode": "closest",
          "mapbox": {
           "style": "light"
          },
          "paper_bgcolor": "white",
          "plot_bgcolor": "#E5ECF6",
          "polar": {
           "angularaxis": {
            "gridcolor": "white",
            "linecolor": "white",
            "ticks": ""
           },
           "bgcolor": "#E5ECF6",
           "radialaxis": {
            "gridcolor": "white",
            "linecolor": "white",
            "ticks": ""
           }
          },
          "scene": {
           "xaxis": {
            "backgroundcolor": "#E5ECF6",
            "gridcolor": "white",
            "gridwidth": 2,
            "linecolor": "white",
            "showbackground": true,
            "ticks": "",
            "zerolinecolor": "white"
           },
           "yaxis": {
            "backgroundcolor": "#E5ECF6",
            "gridcolor": "white",
            "gridwidth": 2,
            "linecolor": "white",
            "showbackground": true,
            "ticks": "",
            "zerolinecolor": "white"
           },
           "zaxis": {
            "backgroundcolor": "#E5ECF6",
            "gridcolor": "white",
            "gridwidth": 2,
            "linecolor": "white",
            "showbackground": true,
            "ticks": "",
            "zerolinecolor": "white"
           }
          },
          "shapedefaults": {
           "line": {
            "color": "#2a3f5f"
           }
          },
          "ternary": {
           "aaxis": {
            "gridcolor": "white",
            "linecolor": "white",
            "ticks": ""
           },
           "baxis": {
            "gridcolor": "white",
            "linecolor": "white",
            "ticks": ""
           },
           "bgcolor": "#E5ECF6",
           "caxis": {
            "gridcolor": "white",
            "linecolor": "white",
            "ticks": ""
           }
          },
          "title": {
           "x": 0.05
          },
          "xaxis": {
           "automargin": true,
           "gridcolor": "white",
           "linecolor": "white",
           "ticks": "",
           "title": {
            "standoff": 15
           },
           "zerolinecolor": "white",
           "zerolinewidth": 2
          },
          "yaxis": {
           "automargin": true,
           "gridcolor": "white",
           "linecolor": "white",
           "ticks": "",
           "title": {
            "standoff": 15
           },
           "zerolinecolor": "white",
           "zerolinewidth": 2
          }
         }
        },
        "title": {
         "text": "Total Wins by Nationality (Top 10)"
        },
        "xaxis": {
         "anchor": "y",
         "domain": [
          0,
          1
         ],
         "title": {
          "text": "Driver Nationality"
         }
        },
        "yaxis": {
         "anchor": "x",
         "domain": [
          0,
          1
         ],
         "title": {
          "text": "Total Wins"
         }
        }
       }
      }
     },
     "metadata": {},
     "output_type": "display_data"
    },
    {
     "data": {
      "application/vnd.plotly.v1+json": {
       "config": {
        "plotlyServerURL": "https://plot.ly"
       },
       "data": [
        {
         "alignmentgroup": "True",
         "hovertemplate": "avg_stop_sec=%{x}<br>driver=%{y}<extra></extra>",
         "legendgroup": "",
         "marker": {
          "color": "#636efa",
          "pattern": {
           "shape": ""
          }
         },
         "name": "",
         "offsetgroup": "",
         "orientation": "h",
         "showlegend": false,
         "textposition": "auto",
         "type": "bar",
         "x": [
          22.541644444444447,
          22.93332,
          23.556549295774648,
          23.69416091954023,
          23.743946666666666,
          23.8623488372093,
          23.93855737704918,
          23.99391176470588,
          24.02431707317073,
          24.084259842519685,
          24.123900000000003,
          24.428738095238096,
          24.441020408163265,
          24.608666666666668,
          24.61702,
          24.70651612903226,
          24.748923076923077,
          24.83852380952381,
          25.1065,
          25.247864864864862
         ],
         "xaxis": "x",
         "y": [
          "Michael Schumacher",
          "Nick Heidfeld",
          "Mark Webber",
          "Vitaly Petrov",
          "Timo Glock",
          "Jaime Alguersuari",
          "Bruno Senna",
          "Brendon Hartley",
          "Sébastien Buemi",
          "Paul di Resta",
          "Franco Colapinto",
          "Robert Kubica",
          "Giedo van der Garde",
          "Heikki Kovalainen",
          "Rubens Barrichello",
          "Sergey Sirotkin",
          "Charles Pic",
          "Jérôme d'Ambrosio",
          "Jarno Trulli",
          "Pedro de la Rosa"
         ],
         "yaxis": "y"
        }
       ],
       "layout": {
        "barmode": "relative",
        "legend": {
         "tracegroupgap": 0
        },
        "template": {
         "data": {
          "bar": [
           {
            "error_x": {
             "color": "#2a3f5f"
            },
            "error_y": {
             "color": "#2a3f5f"
            },
            "marker": {
             "line": {
              "color": "#E5ECF6",
              "width": 0.5
             },
             "pattern": {
              "fillmode": "overlay",
              "size": 10,
              "solidity": 0.2
             }
            },
            "type": "bar"
           }
          ],
          "barpolar": [
           {
            "marker": {
             "line": {
              "color": "#E5ECF6",
              "width": 0.5
             },
             "pattern": {
              "fillmode": "overlay",
              "size": 10,
              "solidity": 0.2
             }
            },
            "type": "barpolar"
           }
          ],
          "carpet": [
           {
            "aaxis": {
             "endlinecolor": "#2a3f5f",
             "gridcolor": "white",
             "linecolor": "white",
             "minorgridcolor": "white",
             "startlinecolor": "#2a3f5f"
            },
            "baxis": {
             "endlinecolor": "#2a3f5f",
             "gridcolor": "white",
             "linecolor": "white",
             "minorgridcolor": "white",
             "startlinecolor": "#2a3f5f"
            },
            "type": "carpet"
           }
          ],
          "choropleth": [
           {
            "colorbar": {
             "outlinewidth": 0,
             "ticks": ""
            },
            "type": "choropleth"
           }
          ],
          "contour": [
           {
            "colorbar": {
             "outlinewidth": 0,
             "ticks": ""
            },
            "colorscale": [
             [
              0,
              "#0d0887"
             ],
             [
              0.1111111111111111,
              "#46039f"
             ],
             [
              0.2222222222222222,
              "#7201a8"
             ],
             [
              0.3333333333333333,
              "#9c179e"
             ],
             [
              0.4444444444444444,
              "#bd3786"
             ],
             [
              0.5555555555555556,
              "#d8576b"
             ],
             [
              0.6666666666666666,
              "#ed7953"
             ],
             [
              0.7777777777777778,
              "#fb9f3a"
             ],
             [
              0.8888888888888888,
              "#fdca26"
             ],
             [
              1,
              "#f0f921"
             ]
            ],
            "type": "contour"
           }
          ],
          "contourcarpet": [
           {
            "colorbar": {
             "outlinewidth": 0,
             "ticks": ""
            },
            "type": "contourcarpet"
           }
          ],
          "heatmap": [
           {
            "colorbar": {
             "outlinewidth": 0,
             "ticks": ""
            },
            "colorscale": [
             [
              0,
              "#0d0887"
             ],
             [
              0.1111111111111111,
              "#46039f"
             ],
             [
              0.2222222222222222,
              "#7201a8"
             ],
             [
              0.3333333333333333,
              "#9c179e"
             ],
             [
              0.4444444444444444,
              "#bd3786"
             ],
             [
              0.5555555555555556,
              "#d8576b"
             ],
             [
              0.6666666666666666,
              "#ed7953"
             ],
             [
              0.7777777777777778,
              "#fb9f3a"
             ],
             [
              0.8888888888888888,
              "#fdca26"
             ],
             [
              1,
              "#f0f921"
             ]
            ],
            "type": "heatmap"
           }
          ],
          "heatmapgl": [
           {
            "colorbar": {
             "outlinewidth": 0,
             "ticks": ""
            },
            "colorscale": [
             [
              0,
              "#0d0887"
             ],
             [
              0.1111111111111111,
              "#46039f"
             ],
             [
              0.2222222222222222,
              "#7201a8"
             ],
             [
              0.3333333333333333,
              "#9c179e"
             ],
             [
              0.4444444444444444,
              "#bd3786"
             ],
             [
              0.5555555555555556,
              "#d8576b"
             ],
             [
              0.6666666666666666,
              "#ed7953"
             ],
             [
              0.7777777777777778,
              "#fb9f3a"
             ],
             [
              0.8888888888888888,
              "#fdca26"
             ],
             [
              1,
              "#f0f921"
             ]
            ],
            "type": "heatmapgl"
           }
          ],
          "histogram": [
           {
            "marker": {
             "pattern": {
              "fillmode": "overlay",
              "size": 10,
              "solidity": 0.2
             }
            },
            "type": "histogram"
           }
          ],
          "histogram2d": [
           {
            "colorbar": {
             "outlinewidth": 0,
             "ticks": ""
            },
            "colorscale": [
             [
              0,
              "#0d0887"
             ],
             [
              0.1111111111111111,
              "#46039f"
             ],
             [
              0.2222222222222222,
              "#7201a8"
             ],
             [
              0.3333333333333333,
              "#9c179e"
             ],
             [
              0.4444444444444444,
              "#bd3786"
             ],
             [
              0.5555555555555556,
              "#d8576b"
             ],
             [
              0.6666666666666666,
              "#ed7953"
             ],
             [
              0.7777777777777778,
              "#fb9f3a"
             ],
             [
              0.8888888888888888,
              "#fdca26"
             ],
             [
              1,
              "#f0f921"
             ]
            ],
            "type": "histogram2d"
           }
          ],
          "histogram2dcontour": [
           {
            "colorbar": {
             "outlinewidth": 0,
             "ticks": ""
            },
            "colorscale": [
             [
              0,
              "#0d0887"
             ],
             [
              0.1111111111111111,
              "#46039f"
             ],
             [
              0.2222222222222222,
              "#7201a8"
             ],
             [
              0.3333333333333333,
              "#9c179e"
             ],
             [
              0.4444444444444444,
              "#bd3786"
             ],
             [
              0.5555555555555556,
              "#d8576b"
             ],
             [
              0.6666666666666666,
              "#ed7953"
             ],
             [
              0.7777777777777778,
              "#fb9f3a"
             ],
             [
              0.8888888888888888,
              "#fdca26"
             ],
             [
              1,
              "#f0f921"
             ]
            ],
            "type": "histogram2dcontour"
           }
          ],
          "mesh3d": [
           {
            "colorbar": {
             "outlinewidth": 0,
             "ticks": ""
            },
            "type": "mesh3d"
           }
          ],
          "parcoords": [
           {
            "line": {
             "colorbar": {
              "outlinewidth": 0,
              "ticks": ""
             }
            },
            "type": "parcoords"
           }
          ],
          "pie": [
           {
            "automargin": true,
            "type": "pie"
           }
          ],
          "scatter": [
           {
            "fillpattern": {
             "fillmode": "overlay",
             "size": 10,
             "solidity": 0.2
            },
            "type": "scatter"
           }
          ],
          "scatter3d": [
           {
            "line": {
             "colorbar": {
              "outlinewidth": 0,
              "ticks": ""
             }
            },
            "marker": {
             "colorbar": {
              "outlinewidth": 0,
              "ticks": ""
             }
            },
            "type": "scatter3d"
           }
          ],
          "scattercarpet": [
           {
            "marker": {
             "colorbar": {
              "outlinewidth": 0,
              "ticks": ""
             }
            },
            "type": "scattercarpet"
           }
          ],
          "scattergeo": [
           {
            "marker": {
             "colorbar": {
              "outlinewidth": 0,
              "ticks": ""
             }
            },
            "type": "scattergeo"
           }
          ],
          "scattergl": [
           {
            "marker": {
             "colorbar": {
              "outlinewidth": 0,
              "ticks": ""
             }
            },
            "type": "scattergl"
           }
          ],
          "scattermapbox": [
           {
            "marker": {
             "colorbar": {
              "outlinewidth": 0,
              "ticks": ""
             }
            },
            "type": "scattermapbox"
           }
          ],
          "scatterpolar": [
           {
            "marker": {
             "colorbar": {
              "outlinewidth": 0,
              "ticks": ""
             }
            },
            "type": "scatterpolar"
           }
          ],
          "scatterpolargl": [
           {
            "marker": {
             "colorbar": {
              "outlinewidth": 0,
              "ticks": ""
             }
            },
            "type": "scatterpolargl"
           }
          ],
          "scatterternary": [
           {
            "marker": {
             "colorbar": {
              "outlinewidth": 0,
              "ticks": ""
             }
            },
            "type": "scatterternary"
           }
          ],
          "surface": [
           {
            "colorbar": {
             "outlinewidth": 0,
             "ticks": ""
            },
            "colorscale": [
             [
              0,
              "#0d0887"
             ],
             [
              0.1111111111111111,
              "#46039f"
             ],
             [
              0.2222222222222222,
              "#7201a8"
             ],
             [
              0.3333333333333333,
              "#9c179e"
             ],
             [
              0.4444444444444444,
              "#bd3786"
             ],
             [
              0.5555555555555556,
              "#d8576b"
             ],
             [
              0.6666666666666666,
              "#ed7953"
             ],
             [
              0.7777777777777778,
              "#fb9f3a"
             ],
             [
              0.8888888888888888,
              "#fdca26"
             ],
             [
              1,
              "#f0f921"
             ]
            ],
            "type": "surface"
           }
          ],
          "table": [
           {
            "cells": {
             "fill": {
              "color": "#EBF0F8"
             },
             "line": {
              "color": "white"
             }
            },
            "header": {
             "fill": {
              "color": "#C8D4E3"
             },
             "line": {
              "color": "white"
             }
            },
            "type": "table"
           }
          ]
         },
         "layout": {
          "annotationdefaults": {
           "arrowcolor": "#2a3f5f",
           "arrowhead": 0,
           "arrowwidth": 1
          },
          "autotypenumbers": "strict",
          "coloraxis": {
           "colorbar": {
            "outlinewidth": 0,
            "ticks": ""
           }
          },
          "colorscale": {
           "diverging": [
            [
             0,
             "#8e0152"
            ],
            [
             0.1,
             "#c51b7d"
            ],
            [
             0.2,
             "#de77ae"
            ],
            [
             0.3,
             "#f1b6da"
            ],
            [
             0.4,
             "#fde0ef"
            ],
            [
             0.5,
             "#f7f7f7"
            ],
            [
             0.6,
             "#e6f5d0"
            ],
            [
             0.7,
             "#b8e186"
            ],
            [
             0.8,
             "#7fbc41"
            ],
            [
             0.9,
             "#4d9221"
            ],
            [
             1,
             "#276419"
            ]
           ],
           "sequential": [
            [
             0,
             "#0d0887"
            ],
            [
             0.1111111111111111,
             "#46039f"
            ],
            [
             0.2222222222222222,
             "#7201a8"
            ],
            [
             0.3333333333333333,
             "#9c179e"
            ],
            [
             0.4444444444444444,
             "#bd3786"
            ],
            [
             0.5555555555555556,
             "#d8576b"
            ],
            [
             0.6666666666666666,
             "#ed7953"
            ],
            [
             0.7777777777777778,
             "#fb9f3a"
            ],
            [
             0.8888888888888888,
             "#fdca26"
            ],
            [
             1,
             "#f0f921"
            ]
           ],
           "sequentialminus": [
            [
             0,
             "#0d0887"
            ],
            [
             0.1111111111111111,
             "#46039f"
            ],
            [
             0.2222222222222222,
             "#7201a8"
            ],
            [
             0.3333333333333333,
             "#9c179e"
            ],
            [
             0.4444444444444444,
             "#bd3786"
            ],
            [
             0.5555555555555556,
             "#d8576b"
            ],
            [
             0.6666666666666666,
             "#ed7953"
            ],
            [
             0.7777777777777778,
             "#fb9f3a"
            ],
            [
             0.8888888888888888,
             "#fdca26"
            ],
            [
             1,
             "#f0f921"
            ]
           ]
          },
          "colorway": [
           "#636efa",
           "#EF553B",
           "#00cc96",
           "#ab63fa",
           "#FFA15A",
           "#19d3f3",
           "#FF6692",
           "#B6E880",
           "#FF97FF",
           "#FECB52"
          ],
          "font": {
           "color": "#2a3f5f"
          },
          "geo": {
           "bgcolor": "white",
           "lakecolor": "white",
           "landcolor": "#E5ECF6",
           "showlakes": true,
           "showland": true,
           "subunitcolor": "white"
          },
          "hoverlabel": {
           "align": "left"
          },
          "hovermode": "closest",
          "mapbox": {
           "style": "light"
          },
          "paper_bgcolor": "white",
          "plot_bgcolor": "#E5ECF6",
          "polar": {
           "angularaxis": {
            "gridcolor": "white",
            "linecolor": "white",
            "ticks": ""
           },
           "bgcolor": "#E5ECF6",
           "radialaxis": {
            "gridcolor": "white",
            "linecolor": "white",
            "ticks": ""
           }
          },
          "scene": {
           "xaxis": {
            "backgroundcolor": "#E5ECF6",
            "gridcolor": "white",
            "gridwidth": 2,
            "linecolor": "white",
            "showbackground": true,
            "ticks": "",
            "zerolinecolor": "white"
           },
           "yaxis": {
            "backgroundcolor": "#E5ECF6",
            "gridcolor": "white",
            "gridwidth": 2,
            "linecolor": "white",
            "showbackground": true,
            "ticks": "",
            "zerolinecolor": "white"
           },
           "zaxis": {
            "backgroundcolor": "#E5ECF6",
            "gridcolor": "white",
            "gridwidth": 2,
            "linecolor": "white",
            "showbackground": true,
            "ticks": "",
            "zerolinecolor": "white"
           }
          },
          "shapedefaults": {
           "line": {
            "color": "#2a3f5f"
           }
          },
          "ternary": {
           "aaxis": {
            "gridcolor": "white",
            "linecolor": "white",
            "ticks": ""
           },
           "baxis": {
            "gridcolor": "white",
            "linecolor": "white",
            "ticks": ""
           },
           "bgcolor": "#E5ECF6",
           "caxis": {
            "gridcolor": "white",
            "linecolor": "white",
            "ticks": ""
           }
          },
          "title": {
           "x": 0.05
          },
          "xaxis": {
           "automargin": true,
           "gridcolor": "white",
           "linecolor": "white",
           "ticks": "",
           "title": {
            "standoff": 15
           },
           "zerolinecolor": "white",
           "zerolinewidth": 2
          },
          "yaxis": {
           "automargin": true,
           "gridcolor": "white",
           "linecolor": "white",
           "ticks": "",
           "title": {
            "standoff": 15
           },
           "zerolinecolor": "white",
           "zerolinewidth": 2
          }
         }
        },
        "title": {
         "text": "Top 20 Fastest Avg Pit Stops (min 5 stops)"
        },
        "xaxis": {
         "anchor": "y",
         "domain": [
          0,
          1
         ],
         "title": {
          "text": "Avg Pit Stop (sec)"
         }
        },
        "yaxis": {
         "anchor": "x",
         "domain": [
          0,
          1
         ],
         "title": {
          "text": "Driver"
         }
        }
       }
      }
     },
     "metadata": {},
     "output_type": "display_data"
    }
   ],
   "source": [
    "# Curated visuals — most engaging first\n",
    "\n",
    "# 1) Single-race scatter (Avg Lap vs Finish) for raceId=860\n",
    "df860 = AN.avg_lap_vs_finish_df(CFG.target_race_id)\n",
    "\n",
    "fig_post = px.scatter(\n",
    "    df860, x=\"avg_lap_sec\", y=\"finish_position\", color=\"nationality\",\n",
    "    hover_data=[\"forename\", \"surname\", \"points\"] if \"points\" in df860.columns else [\"forename\",\"surname\"],\n",
    "    title=f\"Average Lap Time vs Finish — Race {CFG.target_race_id} (race pace proxy, not a predictor)\"\n",
    ")\n",
    "fig_post.update_yaxes(autorange=\"reversed\")\n",
    "fig_post.update_layout(xaxis_title=\"Average Lap (sec)\", yaxis_title=\"Finish Position\")\n",
    "fig_post.show()\n",
    "\n",
    "# 2) Positions gained (Grid - Finish) — bar chart\n",
    "try:\n",
    "    if \"grid\" in results.columns:\n",
    "        res_860 = results[results[\"raceId\"] == CFG.target_race_id][[\"driverId\", \"grid\", \"position\", \"positionOrder\"]].copy()\n",
    "        res_860[\"grid_num\"] = pd.to_numeric(res_860[\"grid\"], errors=\"coerce\")\n",
    "        if \"positionOrder\" in res_860.columns and res_860[\"positionOrder\"].notna().any():\n",
    "            res_860[\"finish_num\"] = pd.to_numeric(res_860[\"positionOrder\"], errors=\"coerce\")\n",
    "        else:\n",
    "            res_860[\"finish_num\"] = pd.to_numeric(res_860[\"position\"], errors=\"coerce\")\n",
    "        movers = df860.merge(res_860[[\"driverId\", \"grid_num\", \"finish_num\"]], on=\"driverId\", how=\"left\")\n",
    "        movers = movers.dropna(subset=[\"grid_num\", \"finish_num\"])  # ensure safe arithmetic\n",
    "        # Final guard: compute with to_numeric to avoid dtype issues\n",
    "        movers[\"positions_gained\"] = pd.to_numeric(movers[\"grid_num\"], errors=\"coerce\") - pd.to_numeric(movers[\"finish_num\"], errors=\"coerce\")\n",
    "        movers = movers.dropna(subset=[\"positions_gained\"])  # drop if still NaN after coercion\n",
    "        movers[\"driver\"] = movers[\"forename\"] + \" \" + movers[\"surname\"]\n",
    "        movers_sorted = movers.sort_values(\"positions_gained\", ascending=False)\n",
    "        fig_movers = px.bar(\n",
    "            movers_sorted, y=\"driver\", x=\"positions_gained\", orientation=\"h\",\n",
    "            title=f\"Positions Gained (Grid − Finish) — Race {CFG.target_race_id}\"\n",
    "        )\n",
    "        fig_movers.update_layout(xaxis_title=\"Positions Gained (+ is better)\", yaxis_title=\"Driver\")\n",
    "        fig_movers.show()\n",
    "    else:\n",
    "        print(\"results has no 'grid' column; skipping Positions Gained chart.\")\n",
    "except Exception as e:\n",
    "    print(\"Skipping Positions Gained chart:\", e)\n",
    "\n",
    "# 3) Per‑race pit efficiency vs finish — scatter\n",
    "try:\n",
    "    pit860 = pit_stops[pit_stops[\"raceId\"] == CFG.target_race_id].copy()\n",
    "    if not pit860.empty:\n",
    "        if \"milliseconds\" in pit860.columns:\n",
    "            pit860[\"stop_ms\"] = pit860[\"milliseconds\"]\n",
    "        elif \"duration\" in pit860.columns:\n",
    "            pit860[\"stop_ms\"] = parse_ms_from_str_time(pit860[\"duration\"])\n",
    "        else:\n",
    "            raise KeyError(\"pit_stops must include 'milliseconds' or 'duration'\")\n",
    "        p_agg = (\n",
    "            pit860.groupby(\"driverId\", as_index=False)[\"stop_ms\"].agg(avg_stop_ms=\"mean\", total_stops=\"size\")\n",
    "        )\n",
    "        p_agg = p_agg.merge(df860[[\"driverId\",\"forename\",\"surname\",\"finish_position\"]], on=\"driverId\", how=\"left\")\n",
    "        p_agg[\"avg_stop_sec\"] = p_agg[\"avg_stop_ms\"] / 1000.0\n",
    "        p_agg[\"driver\"] = p_agg[\"forename\"] + \" \" + p_agg[\"surname\"]\n",
    "        fig_pit_race = px.scatter(\n",
    "            p_agg, x=\"avg_stop_sec\", y=\"finish_position\", hover_data=[\"driver\",\"total_stops\"],\n",
    "            title=f\"Avg Pit Stop (sec) vs Finish — Race {CFG.target_race_id}\"\n",
    "        )\n",
    "        fig_pit_race.update_yaxes(autorange=\"reversed\")\n",
    "        fig_pit_race.update_layout(xaxis_title=\"Avg Pit Stop (sec)\", yaxis_title=\"Finish (lower is better)\")\n",
    "        fig_pit_race.show()\n",
    "    else:\n",
    "        print(f\"No pit_stops rows for raceId={CFG.target_race_id}; skipping per-race pit scatter.\")\n",
    "except Exception as e:\n",
    "    print(\"Skipping per-race pit scatter:\", e)\n",
    "\n",
    "# 4) Global: Top 10 wins by nationality — bar chart (kept short)\n",
    "nat_df = AN.nationality_wins_df()\n",
    "nat_top = nat_df.head(10).copy()\n",
    "fig_nat = px.bar(nat_top, x=\"nationality\", y=\"total_wins\", title=\"Total Wins by Nationality (Top 10)\")\n",
    "fig_nat.update_layout(xaxis_title=\"Driver Nationality\", yaxis_title=\"Total Wins\")\n",
    "fig_nat.show()\n",
    "\n",
    "# (Optional reference) Global pit-stop efficiency top 20 — quick glance\n",
    "pit_df_global = AN.pit_efficiency_df(min_stops=5)\n",
    "top20 = pit_df_global.head(20).copy()\n",
    "top20[\"driver\"] = top20[\"forename\"] + \" \" + top20[\"surname\"]\n",
    "fig_pit_avg = px.bar(\n",
    "    top20, y=\"driver\", x=\"avg_stop_sec\", orientation=\"h\",\n",
    "    title=\"Top 20 Fastest Avg Pit Stops (min 5 stops)\"\n",
    ")\n",
    "fig_pit_avg.update_layout(xaxis_title=\"Avg Pit Stop (sec)\", yaxis_title=\"Driver\")\n",
    "fig_pit_avg.show()"
   ]
  },
  {
   "cell_type": "markdown",
   "id": "0f6bd2a1",
   "metadata": {},
   "source": [
    "## 🔎 Reading the charts (interview crib notes)\n",
    "\n",
    "<div style=\"display:flex; gap:12px; flex-wrap:wrap; color:#0F172A;\">\n",
    "  <div style=\"flex:1 1 320px; background:#EFF6FF; border:1px solid #93C5FD; border-radius:10px; padding:12px; color:#0F172A;\">\n",
    "    <h4 style=\"margin:0 0 6px 0; color:#0F172A;\">⏱️ Avg Lap vs Finish</h4>\n",
    "    <ul style=\"margin:6px 0 0 18px;\">\n",
    "      <li>Average lap time is a <em>race‑pace proxy</em>, not a predictor.</li>\n",
    "      <li>Expect a loose negative relationship with outliers (strategy, traffic, weather, penalties).</li>\n",
    "      <li>2012 Malaysia was rain‑affected → tyre calls + SC timing matter; Y‑axis flipped so better finishes are higher.</li>\n",
    "    </ul>\n",
    "  </div>\n",
    "  <div style=\"flex:1 1 320px; background:#ECFDF5; border:1px solid #6EE7B7; border-radius:10px; padding:12px; color:#0F172A;\">\n",
    "    <h4 style=\"margin:0 0 6px 0; color:#0F172A;\">🚀 Positions Gained</h4>\n",
    "    <ul style=\"margin:6px 0 0 18px;\">\n",
    "      <li>We compute <code>grid − finish</code> with numeric coercion and prefer <code>positionOrder</code>.</li>\n",
    "      <li>Big positives usually = great starts and/or well‑timed pit windows.</li>\n",
    "    </ul>\n",
    "  </div>\n",
    "  <div style=\"flex:1 1 320px; background:#F5F3FF; border:1px solid #C4B5FD; border-radius:10px; padding:12px; color:#0F172A;\">\n",
    "    <h4 style=\"margin:0 0 6px 0; color:#0F172A;\">🧰 Pit‑Stop Efficiency</h4>\n",
    "    <ul style=\"margin:6px 0 0 18px;\">\n",
    "      <li>F1 crews can hit ~2s stops; we show top‑20 fastest averages (min 5 stops).</li>\n",
    "      <li>Faster, consistent pit work correlates with results, though context still rules.</li>\n",
    "    </ul>\n",
    "  </div>\n",
    "</div>\n",
    "\n",
    "<div style=\"margin-top:10px; padding:12px; background:#FFF7ED; border-left:6px solid #F59E0B; border-radius:10px; color:#0F172A;\">\n",
    "  <strong style=\"color:#0F172A;\">Notes we observed:</strong>\n",
    "  <ul style=\"margin:6px 0 0 18px;\">\n",
    "    <li>Negative trend largely holds, with outliers.</li>\n",
    "    <li>Some drivers are classified despite not finishing → interesting points.</li>\n",
    "    <li>Perfect strategy can lift a slower‑average driver into the top five.</li>\n",
    "  </ul>\n",
    "</div>\n",
    "\n",
    "<div style=\"margin-top:10px; padding:12px; background:#EDE9FE; border-left:6px solid #8B5CF6; border-radius:10px; color:#0F172A;\">\n",
    "  <strong style=\"color:#0F172A;\">Methodology (3‑minute walkthrough):</strong>\n",
    "  <ol style=\"margin:6px 0 0 18px;\">\n",
    "    <li>Data loading — read Kaggle CSVs, normalize <code>raceId</code>, parse times (mm:ss.xxx → ms). Fail fast on missing files/columns.</li>\n",
    "    <li>Feature engineering — per‑driver average lap for race 860; numeric finish from <code>positionOrder</code> (fallback to numeric <code>position</code>); pit durations from ms or parsed strings.</li>\n",
    "    <li>Visuals — scatter (Avg Lap vs Finish, Y reversed), bar (Positions Gained with robust numeric coercion), pit‑stop scatter/bar; hover shows names and totals.</li>\n",
    "    <li>Sanity checks — assertions for required columns + a parser self‑check.</li>\n",
    "  </ol>\n",
    "</div>"
   ]
  },
  {
   "cell_type": "markdown",
   "id": "91353df2",
   "metadata": {},
   "source": [
    "## SQL Reference (Copy-Paste)\n",
    "\n",
    "```sql\n",
    "-- View: nationality_wins  (nationality -> drivers -> results; wins = position = 1)\n",
    "CREATE VIEW nationality_wins AS\n",
    "SELECT\n",
    "    n.nationality_name,\n",
    "    SUM(w.wins_per_driver) AS total_wins\n",
    "FROM nationality n\n",
    "JOIN drivers d\n",
    "  ON n.nationality_id = d.nationality_id\n",
    "JOIN (\n",
    "    SELECT driverId, COUNT(*) AS wins_per_driver\n",
    "    FROM results\n",
    "    WHERE position = 1\n",
    "    GROUP BY driverId\n",
    ") w\n",
    "  ON d.driverId = w.driverId\n",
    "GROUP BY n.nationality_name\n",
    "ORDER BY total_wins DESC;\n",
    "\n",
    "-- View: avg_laps_race860 (CTE to compute per-driver avg lap for race 860; join to drivers + settings, left-join results for DNF)\n",
    "WITH avg_laps AS (\n",
    "  SELECT driverId, raceId, AVG(time) AS average_lap_time\n",
    "  FROM lap_times\n",
    "  WHERE raceId = 860\n",
    "  GROUP BY driverId, raceId\n",
    ")\n",
    "SELECT\n",
    "  s.name  AS Race,\n",
    "  s.date  AS Date,\n",
    "  CONCAT(d.forename, ' ', d.surname) AS Driver,\n",
    "  al.driverId,\n",
    "  al.average_lap_time AS Avg_Lap_Time,\n",
    "  CASE WHEN r.position IS NULL THEN 'Did Not Finish'\n",
    "       ELSE CAST(r.position AS CHAR)\n",
    "  END AS Final_Standing\n",
    "FROM avg_laps al\n",
    "JOIN drivers d  ON al.driverId = d.driverId\n",
    "JOIN settings s ON al.raceId   = s.raceId\n",
    "LEFT JOIN results r\n",
    "       ON r.driverId = d.driverId AND r.raceId = s.raceId\n",
    "ORDER BY (r.position IS NULL), al.average_lap_time;\n",
    "\n",
    "-- View: pit_stop_efficiency (avg duration + count; keep drivers with >=5 stops)\n",
    "CREATE VIEW pit_stop_efficiency AS\n",
    "SELECT\n",
    "  CONCAT(d.forename, ' ', d.surname) AS Driver,\n",
    "  ROUND(AVG(p.duration), 2) AS avg_pit_time_seconds,\n",
    "  COUNT(*) AS total_stops\n",
    "FROM pit_stops p\n",
    "JOIN drivers d ON p.driverId = d.driverId\n",
    "GROUP BY d.driverId\n",
    "HAVING total_stops >= 5\n",
    "ORDER BY avg_pit_time_seconds ASC;\n",
    "\n",
    "-- Joins cheat-sheet (used throughout the notebook)\n",
    "-- drivers + nationality\n",
    "SELECT d.driverId, d.forename, d.surname, n.nationality_name\n",
    "FROM drivers d JOIN nationality n ON d.nationality_id = n.nationality_id;\n",
    "\n",
    "-- results + drivers + races\n",
    "SELECT r.resultId, d.forename, d.surname, rs.round, r.position, r.points\n",
    "FROM results r JOIN drivers d ON r.driverId = d.driverId\n",
    "               JOIN races   rs ON r.raceId   = rs.raceId;\n",
    "\n",
    "-- lap_times + drivers + races\n",
    "SELECT d.forename, d.surname, l.raceId, l.lap, l.time\n",
    "FROM lap_times l JOIN drivers d ON l.driverId = d.driverId\n",
    "                 JOIN races   r ON l.raceId   = r.raceId;\n",
    "\n",
    "-- pit_stops + drivers + races\n",
    "SELECT d.forename, d.surname, r.round, p.lap, p.duration\n",
    "FROM pit_stops p JOIN drivers d ON p.driverId = d.driverId\n",
    "                 JOIN races   r ON p.raceId   = r.raceId;\n",
    "\n",
    "-- qualifying + drivers + races\n",
    "SELECT d.forename, d.surname, r.round, q.position\n",
    "FROM qualifying q JOIN drivers d ON q.driverId = d.driverId\n",
    "                  JOIN races   r ON q.raceId   = r.raceId;\n",
    "```"
   ]
  },
  {
   "cell_type": "code",
   "execution_count": 10,
   "id": "3494d044",
   "metadata": {},
   "outputs": [
    {
     "name": "stdout",
     "output_type": "stream",
     "text": [
      "{'checks': 'ok'}\n"
     ]
    }
   ],
   "source": [
    "# Sanity checks and assertions (robust to out-of-order execution)\n",
    "missing = [n for n in (\"results\", \"lap_times\", \"pit_stops\") if n not in globals()]\n",
    "if missing:\n",
    "    print(f\"Sanity checks skipped: missing variables {missing}. Run cells 2–5 (config, load, analysis, visuals) first.\")\n",
    "else:\n",
    "    assert (\"position\" in results.columns) or (\"positionOrder\" in results.columns), \"results must include 'position' or 'positionOrder'\"\n",
    "    assert (\"milliseconds\" in lap_times.columns) or (\"time\" in lap_times.columns), \"lap_times must include 'milliseconds' or 'time'\"\n",
    "    assert (\"milliseconds\" in pit_stops.columns) or (\"duration\" in pit_stops.columns), \"pit_stops must include 'milliseconds' or 'duration'\"\n",
    "\n",
    "    has_lt_860 = (lap_times.get(\"raceId\", lap_times.get(\"raceID\")).eq(CFG.target_race_id)).any()\n",
    "    has_res_860 = (results.get(\"raceId\", results.get(\"raceID\")).eq(CFG.target_race_id)).any()\n",
    "    if not has_lt_860:\n",
    "        raise RuntimeError(f\"lap_times contains no rows for raceId={CFG.target_race_id}\")\n",
    "    if not has_res_860:\n",
    "        raise RuntimeError(f\"results contains no rows for raceId={CFG.target_race_id}\")\n",
    "\n",
    "    # tiny local parser if helper isn't loaded yet\n",
    "    if \"parse_ms_from_str_time\" not in globals():\n",
    "        import pandas as pd\n",
    "        import numpy as np\n",
    "        def parse_ms_from_str_time(s: pd.Series) -> pd.Series:\n",
    "            def _to_ms(x):\n",
    "                if pd.isna(x): return np.nan\n",
    "                xs = str(x).strip()\n",
    "                if \":\" in xs:\n",
    "                    m, rest = xs.split(\":\", 1)\n",
    "                    ss = float(rest)\n",
    "                    return (int(m) * 60 + ss) * 1000.0\n",
    "                return float(xs) * 1000.0\n",
    "            return s.apply(_to_ms)\n",
    "\n",
    "    # quick parser self-check\n",
    "    test = pd.Series([\"1:23.456\", \"23.456\"])  # 83.456s and 23.456s\n",
    "    parsed = parse_ms_from_str_time(test)\n",
    "    assert abs(parsed.iloc[0] - 83456.0) < 1e-6 and abs(parsed.iloc[1] - 23456.0) < 1e-6, \"parse_ms_from_str_time failed self-check\"\n",
    "    print({\"checks\": \"ok\"})"
   ]
  }
 ],
 "metadata": {
  "kernelspec": {
   "display_name": "base",
   "language": "python",
   "name": "python3"
  },
  "language_info": {
   "codemirror_mode": {
    "name": "ipython",
    "version": 3
   },
   "file_extension": ".py",
   "mimetype": "text/x-python",
   "name": "python",
   "nbconvert_exporter": "python",
   "pygments_lexer": "ipython3",
   "version": "3.12.2"
  }
 },
 "nbformat": 4,
 "nbformat_minor": 5
}
